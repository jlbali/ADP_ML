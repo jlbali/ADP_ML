{
 "cells": [
  {
   "cell_type": "code",
   "execution_count": 1,
   "metadata": {},
   "outputs": [],
   "source": [
    "import numpy as np\n",
    "import pandas as pd\n",
    "from pandas import Series, DataFrame\n",
    "from sklearn.linear_model import LogisticRegression\n",
    "import matplotlib.pyplot as plt\n",
    "from sklearn.neighbors import KNeighborsClassifier\n",
    "from sklearn.metrics import confusion_matrix, classification_report\n",
    "% matplotlib inline"
   ]
  },
  {
   "cell_type": "code",
   "execution_count": 2,
   "metadata": {},
   "outputs": [
    {
     "data": {
      "text/plain": [
       "<matplotlib.collections.PathCollection at 0x7fb7e87a2630>"
      ]
     },
     "execution_count": 2,
     "metadata": {},
     "output_type": "execute_result"
    },
    {
     "data": {
      "image/png": "[encoded data removed]",
      "text/plain": [
       "<Figure size 432x288 with 1 Axes>"
      ]
     },
     "metadata": {},
     "output_type": "display_data"
    }
   ],
   "source": [
    "a1 = np.random.uniform(low=0, high=5.5, size=100).reshape(100,1)\n",
    "a2 = np.random.uniform(low=0, high = 10.0, size=100).reshape(100,1)\n",
    "y_a = np.zeros((100,1))\n",
    "b1 = np.random.uniform(low=4.5, high=10.0, size=100).reshape(100,1)\n",
    "b2 = np.random.uniform(low=0, high = 10.0, size=100).reshape(100,1)\n",
    "y_b = np.ones((100,1))\n",
    "X_a = np.concatenate([a1,a2], axis=1)\n",
    "X_b = np.concatenate([b1,b2], axis=1)\n",
    "plt.scatter(a1,a2)\n",
    "plt.scatter(b1,b2)"
   ]
  },
  {
   "cell_type": "code",
   "execution_count": 3,
   "metadata": {},
   "outputs": [
    {
     "data": {
      "text/plain": [
       "LogisticRegression(C=1.0, class_weight=None, dual=False, fit_intercept=True,\n",
       "          intercept_scaling=1, max_iter=100, multi_class='ovr', n_jobs=1,\n",
       "          penalty='l2', random_state=None, solver='liblinear', tol=0.0001,\n",
       "          verbose=0, warm_start=False)"
      ]
     },
     "execution_count": 3,
     "metadata": {},
     "output_type": "execute_result"
    }
   ],
   "source": [
    "\n",
    "clasificador = LogisticRegression()\n",
    "X = np.concatenate([X_a,X_b], axis=0)\n",
    "y = np.concatenate([y_a, y_b], axis=0).reshape(200)\n",
    "clasificador.fit(X,y)"
   ]
  },
  {
   "cell_type": "code",
   "execution_count": 4,
   "metadata": {},
   "outputs": [],
   "source": [
    "y_pred = clasificador.predict(X)"
   ]
  },
  {
   "cell_type": "code",
   "execution_count": 5,
   "metadata": {},
   "outputs": [
    {
     "data": {
      "text/plain": [
       "array([[87, 13],\n",
       "       [ 7, 93]])"
      ]
     },
     "execution_count": 5,
     "metadata": {},
     "output_type": "execute_result"
    }
   ],
   "source": [
    "confusion_matrix(y, y_pred)"
   ]
  },
  {
   "cell_type": "code",
   "execution_count": 6,
   "metadata": {},
   "outputs": [
    {
     "data": {
      "text/plain": [
       "array([[0.57204509, 0.42795491],\n",
       "       [0.95139559, 0.04860441],\n",
       "       [0.99168576, 0.00831424],\n",
       "       [0.9898905 , 0.0101095 ],\n",
       "       [0.95844003, 0.04155997],\n",
       "       [0.97998385, 0.02001615],\n",
       "       [0.72983318, 0.27016682],\n",
       "       [0.35686341, 0.64313659],\n",
       "       [0.97236255, 0.02763745],\n",
       "       [0.79674534, 0.20325466],\n",
       "       [0.99344282, 0.00655718],\n",
       "       [0.75902877, 0.24097123],\n",
       "       [0.80577929, 0.19422071],\n",
       "       [0.83858799, 0.16141201],\n",
       "       [0.22884861, 0.77115139],\n",
       "       [0.96484093, 0.03515907],\n",
       "       [0.78106145, 0.21893855],\n",
       "       [0.37586573, 0.62413427],\n",
       "       [0.79331544, 0.20668456],\n",
       "       [0.83004762, 0.16995238],\n",
       "       [0.99755861, 0.00244139],\n",
       "       [0.45754053, 0.54245947],\n",
       "       [0.50322917, 0.49677083],\n",
       "       [0.85915381, 0.14084619],\n",
       "       [0.98591125, 0.01408875],\n",
       "       [0.94636158, 0.05363842],\n",
       "       [0.94839591, 0.05160409],\n",
       "       [0.98920649, 0.01079351],\n",
       "       [0.98403818, 0.01596182],\n",
       "       [0.96795966, 0.03204034],\n",
       "       [0.94954204, 0.05045796],\n",
       "       [0.94450811, 0.05549189],\n",
       "       [0.83529861, 0.16470139],\n",
       "       [0.99597202, 0.00402798],\n",
       "       [0.94809254, 0.05190746],\n",
       "       [0.94803711, 0.05196289],\n",
       "       [0.32300259, 0.67699741],\n",
       "       [0.85084252, 0.14915748],\n",
       "       [0.98615397, 0.01384603],\n",
       "       [0.9721802 , 0.0278198 ],\n",
       "       [0.82190228, 0.17809772],\n",
       "       [0.97763107, 0.02236893],\n",
       "       [0.56186427, 0.43813573],\n",
       "       [0.97856671, 0.02143329],\n",
       "       [0.86996674, 0.13003326],\n",
       "       [0.37511158, 0.62488842],\n",
       "       [0.9116627 , 0.0883373 ],\n",
       "       [0.97394279, 0.02605721],\n",
       "       [0.6831664 , 0.3168336 ],\n",
       "       [0.98906514, 0.01093486],\n",
       "       [0.93146337, 0.06853663],\n",
       "       [0.85643416, 0.14356584],\n",
       "       [0.89805768, 0.10194232],\n",
       "       [0.84482508, 0.15517492],\n",
       "       [0.99314692, 0.00685308],\n",
       "       [0.60465067, 0.39534933],\n",
       "       [0.92861603, 0.07138397],\n",
       "       [0.99022308, 0.00977692],\n",
       "       [0.72838599, 0.27161401],\n",
       "       [0.95686149, 0.04313851],\n",
       "       [0.61120936, 0.38879064],\n",
       "       [0.86051663, 0.13948337],\n",
       "       [0.95070203, 0.04929797],\n",
       "       [0.81696623, 0.18303377],\n",
       "       [0.4853603 , 0.5146397 ],\n",
       "       [0.85592179, 0.14407821],\n",
       "       [0.84993411, 0.15006589],\n",
       "       [0.97668041, 0.02331959],\n",
       "       [0.45766389, 0.54233611],\n",
       "       [0.46094208, 0.53905792],\n",
       "       [0.94391304, 0.05608696],\n",
       "       [0.23237352, 0.76762648],\n",
       "       [0.99694735, 0.00305265],\n",
       "       [0.95077023, 0.04922977],\n",
       "       [0.99478426, 0.00521574],\n",
       "       [0.59307924, 0.40692076],\n",
       "       [0.25367068, 0.74632932],\n",
       "       [0.54658142, 0.45341858],\n",
       "       [0.68681183, 0.31318817],\n",
       "       [0.88754948, 0.11245052],\n",
       "       [0.640275  , 0.359725  ],\n",
       "       [0.997212  , 0.002788  ],\n",
       "       [0.97418043, 0.02581957],\n",
       "       [0.73596987, 0.26403013],\n",
       "       [0.92379277, 0.07620723],\n",
       "       [0.99671146, 0.00328854],\n",
       "       [0.3048359 , 0.6951641 ],\n",
       "       [0.99645342, 0.00354658],\n",
       "       [0.90859621, 0.09140379],\n",
       "       [0.50124256, 0.49875744],\n",
       "       [0.79122373, 0.20877627],\n",
       "       [0.73381453, 0.26618547],\n",
       "       [0.98226521, 0.01773479],\n",
       "       [0.86716857, 0.13283143],\n",
       "       [0.9778804 , 0.0221196 ],\n",
       "       [0.97990294, 0.02009706],\n",
       "       [0.33850398, 0.66149602],\n",
       "       [0.9765465 , 0.0234535 ],\n",
       "       [0.5572374 , 0.4427626 ],\n",
       "       [0.87351272, 0.12648728],\n",
       "       [0.5770466 , 0.4229534 ],\n",
       "       [0.19446781, 0.80553219],\n",
       "       [0.09871966, 0.90128034],\n",
       "       [0.06660431, 0.93339569],\n",
       "       [0.03078471, 0.96921529],\n",
       "       [0.03733445, 0.96266555],\n",
       "       [0.36461637, 0.63538363],\n",
       "       [0.01867192, 0.98132808],\n",
       "       [0.098343  , 0.901657  ],\n",
       "       [0.22717609, 0.77282391],\n",
       "       [0.11132075, 0.88867925],\n",
       "       [0.00778001, 0.99221999],\n",
       "       [0.3439619 , 0.6560381 ],\n",
       "       [0.03279352, 0.96720648],\n",
       "       [0.03240933, 0.96759067],\n",
       "       [0.14395185, 0.85604815],\n",
       "       [0.08636184, 0.91363816],\n",
       "       [0.00874309, 0.99125691],\n",
       "       [0.05590231, 0.94409769],\n",
       "       [0.0271903 , 0.9728097 ],\n",
       "       [0.26845976, 0.73154024],\n",
       "       [0.06559441, 0.93440559],\n",
       "       [0.01996967, 0.98003033],\n",
       "       [0.03812998, 0.96187002],\n",
       "       [0.04296559, 0.95703441],\n",
       "       [0.00986084, 0.99013916],\n",
       "       [0.23388917, 0.76611083],\n",
       "       [0.62408804, 0.37591196],\n",
       "       [0.62192724, 0.37807276],\n",
       "       [0.22221593, 0.77778407],\n",
       "       [0.0097121 , 0.9902879 ],\n",
       "       [0.01110794, 0.98889206],\n",
       "       [0.0097768 , 0.9902232 ],\n",
       "       [0.00189785, 0.99810215],\n",
       "       [0.09425257, 0.90574743],\n",
       "       [0.04282212, 0.95717788],\n",
       "       [0.0784512 , 0.9215488 ],\n",
       "       [0.31925374, 0.68074626],\n",
       "       [0.43407754, 0.56592246],\n",
       "       [0.00544367, 0.99455633],\n",
       "       [0.01202626, 0.98797374],\n",
       "       [0.42263736, 0.57736264],\n",
       "       [0.04758628, 0.95241372],\n",
       "       [0.10694166, 0.89305834],\n",
       "       [0.02443842, 0.97556158],\n",
       "       [0.00805743, 0.99194257],\n",
       "       [0.3618179 , 0.6381821 ],\n",
       "       [0.00797667, 0.99202333],\n",
       "       [0.00719192, 0.99280808],\n",
       "       [0.01879468, 0.98120532],\n",
       "       [0.13901963, 0.86098037],\n",
       "       [0.10721926, 0.89278074],\n",
       "       [0.04147245, 0.95852755],\n",
       "       [0.01771114, 0.98228886],\n",
       "       [0.01534299, 0.98465701],\n",
       "       [0.12558833, 0.87441167],\n",
       "       [0.36236644, 0.63763356],\n",
       "       [0.13569448, 0.86430552],\n",
       "       [0.30502419, 0.69497581],\n",
       "       [0.06216609, 0.93783391],\n",
       "       [0.12798397, 0.87201603],\n",
       "       [0.19668507, 0.80331493],\n",
       "       [0.20003605, 0.79996395],\n",
       "       [0.63253981, 0.36746019],\n",
       "       [0.15757049, 0.84242951],\n",
       "       [0.12082376, 0.87917624],\n",
       "       [0.00743711, 0.99256289],\n",
       "       [0.03289228, 0.96710772],\n",
       "       [0.35435694, 0.64564306],\n",
       "       [0.02369334, 0.97630666],\n",
       "       [0.20557537, 0.79442463],\n",
       "       [0.02734013, 0.97265987],\n",
       "       [0.01522228, 0.98477772],\n",
       "       [0.00965461, 0.99034539],\n",
       "       [0.0353234 , 0.9646766 ],\n",
       "       [0.21333526, 0.78666474],\n",
       "       [0.50923905, 0.49076095],\n",
       "       [0.38200809, 0.61799191],\n",
       "       [0.61543461, 0.38456539],\n",
       "       [0.04406038, 0.95593962],\n",
       "       [0.29477086, 0.70522914],\n",
       "       [0.02646019, 0.97353981],\n",
       "       [0.14834384, 0.85165616],\n",
       "       [0.47669974, 0.52330026],\n",
       "       [0.09918462, 0.90081538],\n",
       "       [0.13860532, 0.86139468],\n",
       "       [0.00706963, 0.99293037],\n",
       "       [0.01893416, 0.98106584],\n",
       "       [0.01451797, 0.98548203],\n",
       "       [0.4055238 , 0.5944762 ],\n",
       "       [0.01788244, 0.98211756],\n",
       "       [0.55030889, 0.44969111],\n",
       "       [0.37355769, 0.62644231],\n",
       "       [0.00282486, 0.99717514],\n",
       "       [0.11454545, 0.88545455],\n",
       "       [0.00772972, 0.99227028],\n",
       "       [0.20493355, 0.79506645],\n",
       "       [0.02043583, 0.97956417],\n",
       "       [0.23169554, 0.76830446],\n",
       "       [0.08061432, 0.91938568]])"
      ]
     },
     "execution_count": 6,
     "metadata": {},
     "output_type": "execute_result"
    }
   ],
   "source": [
    "probabilidades = clasificador.predict_proba(X)\n",
    "probabilidades"
   ]
  },
  {
   "cell_type": "code",
   "execution_count": 7,
   "metadata": {},
   "outputs": [
    {
     "data": {
      "text/plain": [
       "array([5.29853772, 8.53430904])"
      ]
     },
     "execution_count": 7,
     "metadata": {},
     "output_type": "execute_result"
    }
   ],
   "source": [
    "X[0,:]"
   ]
  },
  {
   "cell_type": "code",
   "execution_count": 20,
   "metadata": {},
   "outputs": [],
   "source": [
    "# Graficaremos la frontera de decisión.\n"
   ]
  },
  {
   "cell_type": "code",
   "execution_count": 29,
   "metadata": {},
   "outputs": [],
   "source": [
    "x_range = np.linspace(start=0.0, stop=10.0, num=1000)\n",
    "y_range = np.linspace(start=0.0, stop=10.0, num=1000)"
   ]
  },
  {
   "cell_type": "code",
   "execution_count": 30,
   "metadata": {},
   "outputs": [],
   "source": [
    "xx,yy = np.meshgrid(x_range, y_range)"
   ]
  },
  {
   "cell_type": "code",
   "execution_count": 24,
   "metadata": {},
   "outputs": [
    {
     "data": {
      "text/plain": [
       "array([[ 0.        ,  0.01001001,  0.02002002, ...,  9.97997998,\n",
       "         9.98998999, 10.        ],\n",
       "       [ 0.        ,  0.01001001,  0.02002002, ...,  9.97997998,\n",
       "         9.98998999, 10.        ],\n",
       "       [ 0.        ,  0.01001001,  0.02002002, ...,  9.97997998,\n",
       "         9.98998999, 10.        ],\n",
       "       ...,\n",
       "       [ 0.        ,  0.01001001,  0.02002002, ...,  9.97997998,\n",
       "         9.98998999, 10.        ],\n",
       "       [ 0.        ,  0.01001001,  0.02002002, ...,  9.97997998,\n",
       "         9.98998999, 10.        ],\n",
       "       [ 0.        ,  0.01001001,  0.02002002, ...,  9.97997998,\n",
       "         9.98998999, 10.        ]])"
      ]
     },
     "execution_count": 24,
     "metadata": {},
     "output_type": "execute_result"
    }
   ],
   "source": [
    "xx"
   ]
  },
  {
   "cell_type": "code",
   "execution_count": 36,
   "metadata": {},
   "outputs": [],
   "source": [
    "x_ravel = xx.ravel()\n",
    "x_ravel = x_ravel.reshape(len(x_ravel),1)\n",
    "y_ravel = yy.ravel()\n",
    "y_ravel = y_ravel.reshape(len(y_ravel),1)\n",
    "X_predict = np.concatenate([x_ravel, y_ravel], axis=1)"
   ]
  },
  {
   "cell_type": "code",
   "execution_count": 28,
   "metadata": {},
   "outputs": [
    {
     "data": {
      "text/plain": [
       "array([[1, 1, 1],\n",
       "       [2, 2, 2],\n",
       "       [3, 3, 3]])"
      ]
     },
     "execution_count": 28,
     "metadata": {},
     "output_type": "execute_result"
    }
   ],
   "source": [
    "#xx,yy = np.meshgrid([1,2,3], [1,2,3])\n",
    "#xx\n",
    "#yy"
   ]
  },
  {
   "cell_type": "code",
   "execution_count": 37,
   "metadata": {},
   "outputs": [],
   "source": [
    "Z_predict = clasificador.predict(X_predict)"
   ]
  },
  {
   "cell_type": "code",
   "execution_count": 38,
   "metadata": {},
   "outputs": [
    {
     "data": {
      "text/plain": [
       "array([0., 0., 0., ..., 1., 1., 1.])"
      ]
     },
     "execution_count": 38,
     "metadata": {},
     "output_type": "execute_result"
    }
   ],
   "source": [
    "Z_predict"
   ]
  },
  {
   "cell_type": "code",
   "execution_count": 40,
   "metadata": {},
   "outputs": [
    {
     "data": {
      "text/plain": [
       "array([[0., 0., 0., ..., 1., 1., 1.],\n",
       "       [0., 0., 0., ..., 1., 1., 1.],\n",
       "       [0., 0., 0., ..., 1., 1., 1.],\n",
       "       ...,\n",
       "       [0., 0., 0., ..., 1., 1., 1.],\n",
       "       [0., 0., 0., ..., 1., 1., 1.],\n",
       "       [0., 0., 0., ..., 1., 1., 1.]])"
      ]
     },
     "execution_count": 40,
     "metadata": {},
     "output_type": "execute_result"
    }
   ],
   "source": [
    "Z_predict = Z_predict.reshape(xx.shape)\n",
    "Z_predict"
   ]
  },
  {
   "cell_type": "code",
   "execution_count": 41,
   "metadata": {},
   "outputs": [
    {
     "data": {
      "text/plain": [
       "<matplotlib.collections.PathCollection at 0x7fa1868aa898>"
      ]
     },
     "execution_count": 41,
     "metadata": {},
     "output_type": "execute_result"
    },
    {
     "data": {
      "image/png": "[encoded data removed]",
      "text/plain": [
       "<Figure size 432x288 with 1 Axes>"
      ]
     },
     "metadata": {},
     "output_type": "display_data"
    }
   ],
   "source": [
    "plt.pcolormesh(xx,yy,Z_predict, cmap=plt.cm.autumn)\n",
    "plt.scatter(a1,a2)\n",
    "plt.scatter(b1,b2)"
   ]
  },
  {
   "cell_type": "code",
   "execution_count": 47,
   "metadata": {},
   "outputs": [],
   "source": [
    "probas = clasificador.predict_proba(X_predict)"
   ]
  },
  {
   "cell_type": "code",
   "execution_count": 43,
   "metadata": {},
   "outputs": [],
   "source": [
    "# Grafica de probabilidades."
   ]
  },
  {
   "cell_type": "code",
   "execution_count": 46,
   "metadata": {},
   "outputs": [],
   "source": [
    "probas_clase_0 = probas[:,0].reshape(xx.shape)"
   ]
  },
  {
   "cell_type": "code",
   "execution_count": 48,
   "metadata": {},
   "outputs": [
    {
     "data": {
      "text/plain": [
       "<matplotlib.collections.PathCollection at 0x7fa1849fc6d8>"
      ]
     },
     "execution_count": 48,
     "metadata": {},
     "output_type": "execute_result"
    },
    {
     "data": {
      "image/png": "[encoded data removed]",
      "text/plain": [
       "<Figure size 432x288 with 1 Axes>"
      ]
     },
     "metadata": {},
     "output_type": "display_data"
    }
   ],
   "source": [
    "plt.pcolormesh(xx,yy, probas_clase_0, cmap=plt.cm.autumn)\n",
    "plt.scatter(a1,a2)\n",
    "plt.scatter(b1,b2)"
   ]
  },
  {
   "cell_type": "code",
   "execution_count": 49,
   "metadata": {},
   "outputs": [
    {
     "data": {
      "text/plain": [
       "array([[ 1.11461927, -0.19322931]])"
      ]
     },
     "execution_count": 49,
     "metadata": {},
     "output_type": "execute_result"
    }
   ],
   "source": [
    "clasificador.coef_"
   ]
  },
  {
   "cell_type": "code",
   "execution_count": 50,
   "metadata": {},
   "outputs": [
    {
     "data": {
      "text/plain": [
       "array([-4.37548361])"
      ]
     },
     "execution_count": 50,
     "metadata": {},
     "output_type": "execute_result"
    }
   ],
   "source": [
    "clasificador.intercept_"
   ]
  },
  {
   "cell_type": "markdown",
   "metadata": {},
   "source": [
    "Ian Goodfellow\n",
    "Deep Learning 2016.\n",
    "\n",
    "\n",
    "Ejercicio\n",
    "\n",
    "1) Implementar esquemas de training/testing CV con estos datos.\n",
    "\n",
    "2) Considerar el dataset Abalone, encontrar el \"mejor\" clasificador para distinguir Adultos (M o F) de Infantes (I).\n",
    "\n",
    "3) Considerar el dataset \"Titanic\", y construya el mejor clasificador que pueda, para determinar supervivencia.\n"
   ]
  },
  {
   "cell_type": "code",
   "execution_count": null,
   "metadata": {},
   "outputs": [],
   "source": []
  }
 ],
 "metadata": {
  "kernelspec": {
   "display_name": "Python 3",
   "language": "python",
   "name": "python3"
  },
  "language_info": {
   "codemirror_mode": {
    "name": "ipython",
    "version": 3
   },
   "file_extension": ".py",
   "mimetype": "text/x-python",
   "name": "python",
   "nbconvert_exporter": "python",
   "pygments_lexer": "ipython3",
   "version": "3.6.5"
  }
 },
 "nbformat": 4,
 "nbformat_minor": 2
}
