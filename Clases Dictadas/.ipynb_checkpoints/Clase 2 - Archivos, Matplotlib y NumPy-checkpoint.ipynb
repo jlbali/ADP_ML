{
 "cells": [
  {
   "cell_type": "markdown",
   "metadata": {},
   "source": [
    "# Apertura de un archivo"
   ]
  },
  {
   "cell_type": "code",
   "execution_count": 76,
   "metadata": {},
   "outputs": [
    {
     "name": "stdout",
     "output_type": "stream",
     "text": [
      "precio calidad\n",
      "['74686.5613572299', '11.3004311992867']\n",
      "['89832.3024623096', '12.1322665110365']\n",
      "['75209.3830518425', '8.55013025423744']\n",
      "['29274.8862691224', '4.95897397178145']\n",
      "['35600.7293984294', '7.5885023042731']\n",
      "['56896.0685841739', '7.80590536901736']\n",
      "['36282.8192301095', '10.1648728992009']\n",
      "['67267.9391875863', '10.1441002939895']\n",
      "['49911.0455624759', '10.1360621260508']\n",
      "['31303.8498908281', '6.90478958358832']\n",
      "['27692.4752444029', '1.94590924556243']\n",
      "['76229.912918061', '11.2305415476531']\n",
      "['26207.013875246', '3.51594059729099']\n",
      "['38791.7073816061', '6.73064733511303']\n",
      "['96760.0127868354', '10.1350519931889']\n",
      "['83608.0103926361', '9.10362740232398']\n",
      "['50925.3161214292', '7.0557523162749']\n",
      "['98101.3317964971', '10.4901849284659']\n",
      "['27623.1937669218', '3.74146205185923']\n",
      "['66552.1065331995', '9.94795150452882']\n",
      "['57785.1878851652', '6.84657554972122']\n",
      "['44187.7006925642', '9.16969068145705']\n",
      "['28824.1137750447', '7.27761050859721']\n",
      "['65740.7146319747', '7.34141190240429']\n",
      "['83259.3077979982', '8.24803825288193']\n",
      "['71060.1735301316', '9.90511632617056']\n",
      "['44904.5225605369', '6.93161399664321']\n",
      "['75417.4212366343', '10.3363243020862']\n",
      "['73969.2340232432', '9.45098280404562']\n",
      "['80656.2193855643', '12.5337677004694']\n",
      "['87300.4760593176', '10.7912653163859']\n",
      "['39236.3391816616', '3.19580573342383']\n",
      "['74380.8524310589', '11.247992770713']\n",
      "['25635.4882754385', '0.42469221645733']\n",
      "['71724.8702049255', '9.59806377988994']\n",
      "['28169.7373837233', '5.06501921339332']\n",
      "['96460.9507098794', '11.7531567277918']\n",
      "['79858.5218563676', '10.645955689987']\n",
      "['32018.1369967759', '8.53167962256327']\n",
      "['44610.0671589375', '5.85246797280633']\n",
      "['92634.4892755151', '8.43980083718689']\n",
      "['34241.8923228979', '8.26706419553504']\n",
      "['42092.8041636944', '4.90379104921224']\n",
      "['52391.1937884986', '3.89577755900987']\n",
      "['95715.2919098735', '9.82660653357791']\n",
      "['35817.6846429706', '7.26021346725632']\n",
      "['30633.9416652918', '2.72738638657931']\n",
      "['60647.5435942411', '10.2395536501634']\n",
      "['25769.59149912', '6.29530709159888']\n",
      "['66021.4414633811', '8.39144307400899']\n",
      "['81437.0650425553', '9.81634756203881']\n",
      "['44981.8812124431', '5.65485143276148']\n",
      "['24292.9507046938', '4.80193957782305']\n",
      "['71092.0893773437', '15.9367291057084']\n",
      "['70406.4638540149', '8.80069831254646']\n",
      "['85855.4317802191', '9.38139429730706']\n",
      "['82130.2802488208', '10.1627397138845']\n",
      "['64066.9399313629', '6.60982139081841']\n",
      "['22551.4581054449', '3.55814586699865']\n",
      "['40100.927259773', '5.33147401483485']\n",
      "['82845.777887851', '10.9663154776058']\n",
      "['42148.2225321233', '10.2365995229268']\n",
      "['27997.3490163684', '1.80197501886611']\n",
      "['61425.1431450248', '11.0154014756666']\n",
      "['37418.522965163', '5.21060135163721']\n",
      "['60851.3406477869', '6.79255800197158']\n",
      "['93986.5217171609', '10.5473588328328']\n",
      "['43233.9272275567', '5.69157977432145']\n",
      "['52573.6411102116', '7.19386534328401']\n",
      "['91390.4698193073', '9.23836289204037']\n",
      "['78383.7062865496', '9.53549035258053']\n",
      "['83544.9094697833', '9.34981327079472']\n",
      "['25788.4345762432', '2.02244290535146']\n",
      "['75273.5940739512', '8.36398504022057']\n",
      "['67672.6277172565', '7.96735878954777']\n",
      "['83015.8629268408', '11.6591214379182']\n",
      "['50037.8438085318', '6.73322386565636']\n",
      "['33739.4623085856', '6.0311232230356']\n",
      "['84394.6168757975', '13.0537348965583']\n",
      "['74800.7891513407', '12.6922850115715']\n",
      "['92844.0696932375', '11.1891670470007']\n",
      "['90451.6818374395', '14.8067463434034']\n",
      "['69906.4550362527', '9.33035777853419']\n",
      "['26615.7534718513', '5.59964158312265']\n",
      "['98367.5588294864', '10.4459926437314']\n",
      "['83145.5149315298', '11.3969768106804']\n",
      "['54208.5390351713', '4.44597922503927']\n",
      "['90726.1415012181', '16.3486025474977']\n",
      "['25513.0120925605', '4.6912823994192']\n",
      "['84282.0894531906', '7.66483914700119']\n",
      "['72350.1869104803', '9.9074438475909']\n",
      "['71469.8984101415', '8.62869625503613']\n",
      "['95340.2080200613', '12.5728251153755']\n",
      "['39118.1467100978', '6.85924172072254']\n",
      "['91839.9338982999', '12.7286279771338']\n",
      "['49021.9191275537', '8.94212405046956']\n",
      "['35340.4853120446', '6.85585823268949']\n",
      "['35624.7660145164', '4.90539210882039']\n",
      "['71272.5314497948', '8.1268836433296']\n",
      "['39595.5238305032', '4.15044803732039']\n"
     ]
    }
   ],
   "source": [
    "f = open(\"autos.txt\")\n",
    "precio = []\n",
    "calidad = []\n",
    "header = f.readline().strip()\n",
    "print(header)\n",
    "linea = f.readline().strip()\n",
    "while linea != \"\":\n",
    "    partes = linea.split(\" \")\n",
    "    print(partes)\n",
    "    precio.append(float(partes[0]))\n",
    "    calidad.append(float(partes[1]))\n",
    "    linea = f.readline().strip()\n",
    "f.close()"
   ]
  },
  {
   "cell_type": "code",
   "execution_count": 8,
   "metadata": {},
   "outputs": [],
   "source": [
    "import matplotlib.pyplot as plt\n",
    "import numpy as np\n",
    "\n",
    "# Solamente si se ejecuta en Jupyter.\n",
    "% matplotlib inline"
   ]
  },
  {
   "cell_type": "code",
   "execution_count": 10,
   "metadata": {},
   "outputs": [
    {
     "data": {
      "text/plain": [
       "Text(0.5,1,'Autos')"
      ]
     },
     "execution_count": 10,
     "metadata": {},
     "output_type": "execute_result"
    },
    {
     "data": {
      "image/png": "[encoded data removed]",
      "text/plain": [
       "<Figure size 432x288 with 1 Axes>"
      ]
     },
     "metadata": {},
     "output_type": "display_data"
    }
   ],
   "source": [
    "plt.scatter(precio, calidad)\n",
    "plt.xlabel(\"Precio\")\n",
    "plt.ylabel(\"Calidad\")\n",
    "plt.title(\"Autos\")"
   ]
  },
  {
   "cell_type": "code",
   "execution_count": 12,
   "metadata": {},
   "outputs": [
    {
     "data": {
      "text/plain": [
       "array([0., 0., 0., 0., 0., 0., 0., 0., 0., 0., 0., 0., 0., 0., 0., 0., 0.,\n",
       "       0., 0., 0., 0., 0., 0., 0., 0., 0., 0., 0., 0., 0., 0., 0., 0., 0.,\n",
       "       0., 0., 0., 0., 0., 0., 0., 0., 0., 0., 0., 0., 0., 0., 0., 0., 0.,\n",
       "       0., 0., 0., 0., 0., 0., 0., 0., 0., 0., 0., 0., 0., 0., 0., 0., 0.,\n",
       "       0., 0., 0., 0., 0., 0., 0., 0., 0., 0., 0., 0., 0., 0., 0., 0., 0.,\n",
       "       0., 0., 0., 0., 0., 0., 0., 0., 0., 0., 0., 0., 0., 0., 0.])"
      ]
     },
     "execution_count": 12,
     "metadata": {},
     "output_type": "execute_result"
    }
   ],
   "source": [
    "x = np.zeros(100)\n",
    "x"
   ]
  },
  {
   "cell_type": "code",
   "execution_count": 14,
   "metadata": {},
   "outputs": [
    {
     "data": {
      "text/plain": [
       "array([0.  , 0.  , 3.14, 3.14, 3.14, 3.14, 3.14, 3.14, 3.14, 3.14, 3.14,\n",
       "       3.14, 3.14, 3.14, 3.14, 3.14, 3.14, 3.14, 3.14, 3.14, 3.14, 3.14,\n",
       "       3.14, 3.14, 3.14, 3.14, 3.14, 3.14, 3.14, 3.14, 3.14, 3.14, 3.14,\n",
       "       3.14, 3.14, 3.14, 3.14, 3.14, 3.14, 3.14, 3.14, 3.14, 3.14, 3.14,\n",
       "       3.14, 3.14, 3.14, 3.14, 3.14, 3.14, 3.14, 3.14, 3.14, 3.14, 3.14,\n",
       "       3.14, 0.  , 0.  , 0.  , 0.  , 0.  , 0.  , 0.  , 0.  , 0.  , 0.  ,\n",
       "       0.  , 0.  , 0.  , 0.  , 0.  , 0.  , 0.  , 0.  , 0.  , 0.  , 0.  ,\n",
       "       0.  , 0.  , 0.  , 0.  , 0.  , 0.  , 0.  , 0.  , 0.  , 0.  , 0.  ,\n",
       "       0.  , 0.  , 0.  , 0.  , 0.  , 0.  , 0.  , 0.  , 0.  , 0.  , 0.  ,\n",
       "       0.  ])"
      ]
     },
     "execution_count": 14,
     "metadata": {},
     "output_type": "execute_result"
    }
   ],
   "source": [
    "x[2:56] = 3.14\n",
    "x"
   ]
  },
  {
   "cell_type": "code",
   "execution_count": 15,
   "metadata": {},
   "outputs": [
    {
     "data": {
      "text/plain": [
       "array([ 7.  ,  7.  , 10.14, 10.14, 10.14, 10.14, 10.14, 10.14, 10.14,\n",
       "       10.14, 10.14, 10.14, 10.14, 10.14, 10.14, 10.14, 10.14, 10.14,\n",
       "       10.14, 10.14, 10.14, 10.14, 10.14, 10.14, 10.14, 10.14, 10.14,\n",
       "       10.14, 10.14, 10.14, 10.14, 10.14, 10.14, 10.14, 10.14, 10.14,\n",
       "       10.14, 10.14, 10.14, 10.14, 10.14, 10.14, 10.14, 10.14, 10.14,\n",
       "       10.14, 10.14, 10.14, 10.14, 10.14, 10.14, 10.14, 10.14, 10.14,\n",
       "       10.14, 10.14,  7.  ,  7.  ,  7.  ,  7.  ,  7.  ,  7.  ,  7.  ,\n",
       "        7.  ,  7.  ,  7.  ,  7.  ,  7.  ,  7.  ,  7.  ,  7.  ,  7.  ,\n",
       "        7.  ,  7.  ,  7.  ,  7.  ,  7.  ,  7.  ,  7.  ,  7.  ,  7.  ,\n",
       "        7.  ,  7.  ,  7.  ,  7.  ,  7.  ,  7.  ,  7.  ,  7.  ,  7.  ,\n",
       "        7.  ,  7.  ,  7.  ,  7.  ,  7.  ,  7.  ,  7.  ,  7.  ,  7.  ,\n",
       "        7.  ])"
      ]
     },
     "execution_count": 15,
     "metadata": {},
     "output_type": "execute_result"
    }
   ],
   "source": [
    "x + 7"
   ]
  },
  {
   "cell_type": "code",
   "execution_count": 17,
   "metadata": {},
   "outputs": [
    {
     "data": {
      "text/plain": [
       "[0.0,\n",
       " 0.0,\n",
       " 0.0,\n",
       " 0.0,\n",
       " 0.0,\n",
       " 0.0,\n",
       " 0.0,\n",
       " 0.0,\n",
       " 0.0,\n",
       " 0.0,\n",
       " 0.0,\n",
       " 0.0,\n",
       " 0.0,\n",
       " 0.0,\n",
       " 0.0,\n",
       " 0.0,\n",
       " 0.0,\n",
       " 0.0,\n",
       " 0.0,\n",
       " 0.0,\n",
       " 0.0,\n",
       " 0.0,\n",
       " 0.0,\n",
       " 0.0,\n",
       " 0.0,\n",
       " 0.0,\n",
       " 0.0,\n",
       " 0.0,\n",
       " 0.0,\n",
       " 0.0,\n",
       " 0.0,\n",
       " 0.0,\n",
       " 0.0,\n",
       " 0.0,\n",
       " 0.0,\n",
       " 0.0,\n",
       " 0.0,\n",
       " 0.0,\n",
       " 0.0,\n",
       " 0.0,\n",
       " 0.0,\n",
       " 0.0,\n",
       " 0.0,\n",
       " 0.0,\n",
       " 0.0,\n",
       " 0.0,\n",
       " 0.0,\n",
       " 0.0,\n",
       " 0.0,\n",
       " 0.0,\n",
       " 0.0,\n",
       " 0.0,\n",
       " 0.0,\n",
       " 0.0,\n",
       " 0.0,\n",
       " 0.0,\n",
       " 0.0,\n",
       " 0.0,\n",
       " 0.0,\n",
       " 0.0,\n",
       " 0.0,\n",
       " 0.0,\n",
       " 0.0,\n",
       " 0.0,\n",
       " 0.0,\n",
       " 0.0,\n",
       " 0.0,\n",
       " 0.0,\n",
       " 0.0,\n",
       " 0.0,\n",
       " 0.0,\n",
       " 0.0,\n",
       " 0.0,\n",
       " 0.0,\n",
       " 0.0,\n",
       " 0.0,\n",
       " 0.0,\n",
       " 0.0,\n",
       " 0.0,\n",
       " 0.0,\n",
       " 0.0,\n",
       " 0.0,\n",
       " 0.0,\n",
       " 0.0,\n",
       " 0.0,\n",
       " 0.0,\n",
       " 0.0,\n",
       " 0.0,\n",
       " 0.0,\n",
       " 0.0,\n",
       " 0.0,\n",
       " 0.0,\n",
       " 0.0,\n",
       " 0.0,\n",
       " 0.0,\n",
       " 0.0,\n",
       " 0.0,\n",
       " 0.0,\n",
       " 0.0,\n",
       " 0.0]"
      ]
     },
     "execution_count": 17,
     "metadata": {},
     "output_type": "execute_result"
    }
   ],
   "source": [
    "lista = []\n",
    "for i in range(100):\n",
    "    lista.append(0.0)\n",
    "lista"
   ]
  },
  {
   "cell_type": "code",
   "execution_count": 18,
   "metadata": {},
   "outputs": [
    {
     "ename": "TypeError",
     "evalue": "can only concatenate list (not \"int\") to list",
     "output_type": "error",
     "traceback": [
      "\u001b[0;31m---------------------------------------------------------------------------\u001b[0m",
      "\u001b[0;31mTypeError\u001b[0m                                 Traceback (most recent call last)",
      "\u001b[0;32m<ipython-input-18-962a43962484>\u001b[0m in \u001b[0;36m<module>\u001b[0;34m()\u001b[0m\n\u001b[0;32m----> 1\u001b[0;31m \u001b[0mlista\u001b[0m \u001b[0;34m+\u001b[0m \u001b[0;36m7\u001b[0m\u001b[0;34m\u001b[0m\u001b[0m\n\u001b[0m",
      "\u001b[0;31mTypeError\u001b[0m: can only concatenate list (not \"int\") to list"
     ]
    }
   ],
   "source": [
    "lista + 7"
   ]
  },
  {
   "cell_type": "code",
   "execution_count": 19,
   "metadata": {},
   "outputs": [
    {
     "data": {
      "text/plain": [
       "[7.0,\n",
       " 7.0,\n",
       " 7.0,\n",
       " 7.0,\n",
       " 7.0,\n",
       " 7.0,\n",
       " 7.0,\n",
       " 7.0,\n",
       " 7.0,\n",
       " 7.0,\n",
       " 7.0,\n",
       " 7.0,\n",
       " 7.0,\n",
       " 7.0,\n",
       " 7.0,\n",
       " 7.0,\n",
       " 7.0,\n",
       " 7.0,\n",
       " 7.0,\n",
       " 7.0,\n",
       " 7.0,\n",
       " 7.0,\n",
       " 7.0,\n",
       " 7.0,\n",
       " 7.0,\n",
       " 7.0,\n",
       " 7.0,\n",
       " 7.0,\n",
       " 7.0,\n",
       " 7.0,\n",
       " 7.0,\n",
       " 7.0,\n",
       " 7.0,\n",
       " 7.0,\n",
       " 7.0,\n",
       " 7.0,\n",
       " 7.0,\n",
       " 7.0,\n",
       " 7.0,\n",
       " 7.0,\n",
       " 7.0,\n",
       " 7.0,\n",
       " 7.0,\n",
       " 7.0,\n",
       " 7.0,\n",
       " 7.0,\n",
       " 7.0,\n",
       " 7.0,\n",
       " 7.0,\n",
       " 7.0,\n",
       " 7.0,\n",
       " 7.0,\n",
       " 7.0,\n",
       " 7.0,\n",
       " 7.0,\n",
       " 7.0,\n",
       " 7.0,\n",
       " 7.0,\n",
       " 7.0,\n",
       " 7.0,\n",
       " 7.0,\n",
       " 7.0,\n",
       " 7.0,\n",
       " 7.0,\n",
       " 7.0,\n",
       " 7.0,\n",
       " 7.0,\n",
       " 7.0,\n",
       " 7.0,\n",
       " 7.0,\n",
       " 7.0,\n",
       " 7.0,\n",
       " 7.0,\n",
       " 7.0,\n",
       " 7.0,\n",
       " 7.0,\n",
       " 7.0,\n",
       " 7.0,\n",
       " 7.0,\n",
       " 7.0,\n",
       " 7.0,\n",
       " 7.0,\n",
       " 7.0,\n",
       " 7.0,\n",
       " 7.0,\n",
       " 7.0,\n",
       " 7.0,\n",
       " 7.0,\n",
       " 7.0,\n",
       " 7.0,\n",
       " 7.0,\n",
       " 7.0,\n",
       " 7.0,\n",
       " 7.0,\n",
       " 7.0,\n",
       " 7.0,\n",
       " 7.0,\n",
       " 7.0,\n",
       " 7.0,\n",
       " 7.0]"
      ]
     },
     "execution_count": 19,
     "metadata": {},
     "output_type": "execute_result"
    }
   ],
   "source": [
    "for i in range(len(lista)):\n",
    "    lista[i] = lista[i] + 7\n",
    "lista"
   ]
  },
  {
   "cell_type": "code",
   "execution_count": 20,
   "metadata": {},
   "outputs": [],
   "source": [
    "x = x + 7"
   ]
  },
  {
   "cell_type": "code",
   "execution_count": 23,
   "metadata": {},
   "outputs": [
    {
     "data": {
      "text/plain": [
       "array([     0,      1,      2, ..., 999997, 999998, 999999])"
      ]
     },
     "execution_count": 23,
     "metadata": {},
     "output_type": "execute_result"
    }
   ],
   "source": [
    "n = 1000000\n",
    "lista = list(range(n))\n",
    "#lista\n",
    "arr = np.arange(0, n)\n",
    "arr\n",
    "#% timeit -n10 lista = list(range(n))\n"
   ]
  },
  {
   "cell_type": "code",
   "execution_count": 25,
   "metadata": {},
   "outputs": [
    {
     "name": "stdout",
     "output_type": "stream",
     "text": [
      "36.5 ms ± 2.27 ms per loop (mean ± std. dev. of 7 runs, 10 loops each)\n"
     ]
    }
   ],
   "source": [
    "# Medicion de tiempo de multiplicar por 2 la lista.\n",
    "% timeit -n10 lista = list(range(n))\n",
    "for i in range(n):\n",
    "    lista[i] *= 2\n"
   ]
  },
  {
   "cell_type": "code",
   "execution_count": 26,
   "metadata": {},
   "outputs": [
    {
     "name": "stdout",
     "output_type": "stream",
     "text": [
      "3.11 ms ± 1.14 ms per loop (mean ± std. dev. of 7 runs, 10 loops each)\n"
     ]
    }
   ],
   "source": [
    "# Medicion de tiempo de multiplicar por 2 el arreglo.\n",
    "% timeit -n10 arr = np.arange(0,n)\n",
    "arr = 2*arr"
   ]
  },
  {
   "cell_type": "markdown",
   "metadata": {},
   "source": [
    "## Matrices"
   ]
  },
  {
   "cell_type": "code",
   "execution_count": 27,
   "metadata": {},
   "outputs": [
    {
     "data": {
      "text/plain": [
       "matrix([[ 3. ,  5. ,  0. ],\n",
       "        [-1. ,  2. ,  3. ],\n",
       "        [ 4. ,  0. , -3.5]])"
      ]
     },
     "execution_count": 27,
     "metadata": {},
     "output_type": "execute_result"
    }
   ],
   "source": [
    "A = np.matrix([ [3, 5, 0], [-1,2,3], [4, 0, -3.5] ])\n",
    "A"
   ]
  },
  {
   "cell_type": "code",
   "execution_count": 28,
   "metadata": {},
   "outputs": [
    {
     "data": {
      "text/plain": [
       "array([5, 8, 3])"
      ]
     },
     "execution_count": 28,
     "metadata": {},
     "output_type": "execute_result"
    }
   ],
   "source": [
    "b = np.array([5,8,3])\n",
    "b"
   ]
  },
  {
   "cell_type": "code",
   "execution_count": 30,
   "metadata": {},
   "outputs": [],
   "source": [
    "from numpy.linalg import solve"
   ]
  },
  {
   "cell_type": "code",
   "execution_count": 31,
   "metadata": {},
   "outputs": [
    {
     "data": {
      "text/plain": [
       "array([ 6.97674419, -3.18604651,  7.11627907])"
      ]
     },
     "execution_count": 31,
     "metadata": {},
     "output_type": "execute_result"
    }
   ],
   "source": [
    "x = solve(A, b)\n",
    "x"
   ]
  },
  {
   "cell_type": "code",
   "execution_count": 33,
   "metadata": {},
   "outputs": [
    {
     "data": {
      "text/plain": [
       "matrix([[5., 8., 3.]])"
      ]
     },
     "execution_count": 33,
     "metadata": {},
     "output_type": "execute_result"
    }
   ],
   "source": [
    "#A*x ## ESTA MAL\n",
    "A.dot(x)"
   ]
  },
  {
   "cell_type": "code",
   "execution_count": 34,
   "metadata": {},
   "outputs": [
    {
     "data": {
      "text/plain": [
       "array([5, 8, 3])"
      ]
     },
     "execution_count": 34,
     "metadata": {},
     "output_type": "execute_result"
    }
   ],
   "source": [
    "b"
   ]
  },
  {
   "cell_type": "code",
   "execution_count": 35,
   "metadata": {},
   "outputs": [
    {
     "data": {
      "text/plain": [
       "matrix([[1.77635684e-15, 0.00000000e+00, 0.00000000e+00]])"
      ]
     },
     "execution_count": 35,
     "metadata": {},
     "output_type": "execute_result"
    }
   ],
   "source": [
    "A.dot(x) - b"
   ]
  },
  {
   "cell_type": "code",
   "execution_count": 36,
   "metadata": {},
   "outputs": [
    {
     "data": {
      "text/plain": [
       "matrix([[ 3. , -1. ,  4. ],\n",
       "        [ 5. ,  2. ,  0. ],\n",
       "        [ 0. ,  3. , -3.5]])"
      ]
     },
     "execution_count": 36,
     "metadata": {},
     "output_type": "execute_result"
    }
   ],
   "source": [
    "A.T"
   ]
  },
  {
   "cell_type": "code",
   "execution_count": 38,
   "metadata": {},
   "outputs": [],
   "source": [
    "from numpy.linalg import det, lstsq, inv, eig"
   ]
  },
  {
   "cell_type": "code",
   "execution_count": 39,
   "metadata": {},
   "outputs": [
    {
     "data": {
      "text/plain": [
       "21.499999999999996"
      ]
     },
     "execution_count": 39,
     "metadata": {},
     "output_type": "execute_result"
    }
   ],
   "source": [
    "det(A)"
   ]
  },
  {
   "cell_type": "code",
   "execution_count": 40,
   "metadata": {},
   "outputs": [
    {
     "data": {
      "text/plain": [
       "matrix([[-0.3255814 ,  0.81395349,  0.69767442],\n",
       "        [ 0.39534884, -0.48837209, -0.41860465],\n",
       "        [-0.37209302,  0.93023256,  0.51162791]])"
      ]
     },
     "execution_count": 40,
     "metadata": {},
     "output_type": "execute_result"
    }
   ],
   "source": [
    "inv(A)"
   ]
  },
  {
   "cell_type": "code",
   "execution_count": 41,
   "metadata": {},
   "outputs": [
    {
     "data": {
      "text/plain": [
       "matrix([[ 1.00000000e+00, -2.22044605e-16, -1.66533454e-16],\n",
       "        [ 0.00000000e+00,  1.00000000e+00,  1.38777878e-16],\n",
       "        [ 0.00000000e+00, -2.22044605e-16,  1.00000000e+00]])"
      ]
     },
     "execution_count": 41,
     "metadata": {},
     "output_type": "execute_result"
    }
   ],
   "source": [
    "inv(A).dot(A)"
   ]
  },
  {
   "cell_type": "code",
   "execution_count": 43,
   "metadata": {},
   "outputs": [
    {
     "data": {
      "text/plain": [
       "array([ 4.23426746+0.j       , -1.36713373+1.7912468j,\n",
       "       -1.36713373-1.7912468j])"
      ]
     },
     "execution_count": 43,
     "metadata": {},
     "output_type": "execute_result"
    }
   ],
   "source": [
    "autovalores, autovectore = eig(A)\n",
    "autovalores"
   ]
  },
  {
   "cell_type": "markdown",
   "metadata": {},
   "source": [
    "## Ajuste de los autos"
   ]
  },
  {
   "cell_type": "code",
   "execution_count": 45,
   "metadata": {},
   "outputs": [
    {
     "data": {
      "text/plain": [
       "<matplotlib.collections.PathCollection at 0x7f24996d6208>"
      ]
     },
     "execution_count": 45,
     "metadata": {},
     "output_type": "execute_result"
    },
    {
     "data": {
      "image/png": "[encoded data removed]",
      "text/plain": [
       "<Figure size 432x288 with 1 Axes>"
      ]
     },
     "metadata": {},
     "output_type": "display_data"
    }
   ],
   "source": [
    "plt.scatter(precio, calidad)"
   ]
  },
  {
   "cell_type": "code",
   "execution_count": 46,
   "metadata": {},
   "outputs": [
    {
     "data": {
      "text/plain": [
       "[74686.5613572299,\n",
       " 89832.3024623096,\n",
       " 75209.3830518425,\n",
       " 29274.8862691224,\n",
       " 35600.7293984294,\n",
       " 56896.0685841739,\n",
       " 36282.8192301095,\n",
       " 67267.9391875863,\n",
       " 49911.0455624759,\n",
       " 31303.8498908281,\n",
       " 27692.4752444029,\n",
       " 76229.912918061,\n",
       " 26207.013875246,\n",
       " 38791.7073816061,\n",
       " 96760.0127868354,\n",
       " 83608.0103926361,\n",
       " 50925.3161214292,\n",
       " 98101.3317964971,\n",
       " 27623.1937669218,\n",
       " 66552.1065331995,\n",
       " 57785.1878851652,\n",
       " 44187.7006925642,\n",
       " 28824.1137750447,\n",
       " 65740.7146319747,\n",
       " 83259.3077979982,\n",
       " 71060.1735301316,\n",
       " 44904.5225605369,\n",
       " 75417.4212366343,\n",
       " 73969.2340232432,\n",
       " 80656.2193855643,\n",
       " 87300.4760593176,\n",
       " 39236.3391816616,\n",
       " 74380.8524310589,\n",
       " 25635.4882754385,\n",
       " 71724.8702049255,\n",
       " 28169.7373837233,\n",
       " 96460.9507098794,\n",
       " 79858.5218563676,\n",
       " 32018.1369967759,\n",
       " 44610.0671589375,\n",
       " 92634.4892755151,\n",
       " 34241.8923228979,\n",
       " 42092.8041636944,\n",
       " 52391.1937884986,\n",
       " 95715.2919098735,\n",
       " 35817.6846429706,\n",
       " 30633.9416652918,\n",
       " 60647.5435942411,\n",
       " 25769.59149912,\n",
       " 66021.4414633811,\n",
       " 81437.0650425553,\n",
       " 44981.8812124431,\n",
       " 24292.9507046938,\n",
       " 71092.0893773437,\n",
       " 70406.4638540149,\n",
       " 85855.4317802191,\n",
       " 82130.2802488208,\n",
       " 64066.9399313629,\n",
       " 22551.4581054449,\n",
       " 40100.927259773,\n",
       " 82845.777887851,\n",
       " 42148.2225321233,\n",
       " 27997.3490163684,\n",
       " 61425.1431450248,\n",
       " 37418.522965163,\n",
       " 60851.3406477869,\n",
       " 93986.5217171609,\n",
       " 43233.9272275567,\n",
       " 52573.6411102116,\n",
       " 91390.4698193073,\n",
       " 78383.7062865496,\n",
       " 83544.9094697833,\n",
       " 25788.4345762432,\n",
       " 75273.5940739512,\n",
       " 67672.6277172565,\n",
       " 83015.8629268408,\n",
       " 50037.8438085318,\n",
       " 33739.4623085856,\n",
       " 84394.6168757975,\n",
       " 74800.7891513407,\n",
       " 92844.0696932375,\n",
       " 90451.6818374395,\n",
       " 69906.4550362527,\n",
       " 26615.7534718513,\n",
       " 98367.5588294864,\n",
       " 83145.5149315298,\n",
       " 54208.5390351713,\n",
       " 90726.1415012181,\n",
       " 25513.0120925605,\n",
       " 84282.0894531906,\n",
       " 72350.1869104803,\n",
       " 71469.8984101415,\n",
       " 95340.2080200613,\n",
       " 39118.1467100978,\n",
       " 91839.9338982999,\n",
       " 49021.9191275537,\n",
       " 35340.4853120446,\n",
       " 35624.7660145164,\n",
       " 71272.5314497948,\n",
       " 39595.5238305032]"
      ]
     },
     "execution_count": 46,
     "metadata": {},
     "output_type": "execute_result"
    }
   ],
   "source": [
    "precio"
   ]
  },
  {
   "cell_type": "code",
   "execution_count": 47,
   "metadata": {},
   "outputs": [
    {
     "data": {
      "text/plain": [
       "418832441275.3312"
      ]
     },
     "execution_count": 47,
     "metadata": {},
     "output_type": "execute_result"
    }
   ],
   "source": [
    "X = np.array(precio)\n",
    "X.T.dot(X)"
   ]
  },
  {
   "cell_type": "code",
   "execution_count": 48,
   "metadata": {},
   "outputs": [
    {
     "data": {
      "text/plain": [
       "array([[74686.56135723],\n",
       "       [89832.30246231],\n",
       "       [75209.38305184],\n",
       "       [29274.88626912],\n",
       "       [35600.72939843],\n",
       "       [56896.06858417],\n",
       "       [36282.81923011],\n",
       "       [67267.93918759],\n",
       "       [49911.04556248],\n",
       "       [31303.84989083],\n",
       "       [27692.4752444 ],\n",
       "       [76229.91291806],\n",
       "       [26207.01387525],\n",
       "       [38791.70738161],\n",
       "       [96760.01278684],\n",
       "       [83608.01039264],\n",
       "       [50925.31612143],\n",
       "       [98101.3317965 ],\n",
       "       [27623.19376692],\n",
       "       [66552.1065332 ],\n",
       "       [57785.18788517],\n",
       "       [44187.70069256],\n",
       "       [28824.11377504],\n",
       "       [65740.71463197],\n",
       "       [83259.307798  ],\n",
       "       [71060.17353013],\n",
       "       [44904.52256054],\n",
       "       [75417.42123663],\n",
       "       [73969.23402324],\n",
       "       [80656.21938556],\n",
       "       [87300.47605932],\n",
       "       [39236.33918166],\n",
       "       [74380.85243106],\n",
       "       [25635.48827544],\n",
       "       [71724.87020493],\n",
       "       [28169.73738372],\n",
       "       [96460.95070988],\n",
       "       [79858.52185637],\n",
       "       [32018.13699678],\n",
       "       [44610.06715894],\n",
       "       [92634.48927552],\n",
       "       [34241.8923229 ],\n",
       "       [42092.80416369],\n",
       "       [52391.1937885 ],\n",
       "       [95715.29190987],\n",
       "       [35817.68464297],\n",
       "       [30633.94166529],\n",
       "       [60647.54359424],\n",
       "       [25769.59149912],\n",
       "       [66021.44146338],\n",
       "       [81437.06504256],\n",
       "       [44981.88121244],\n",
       "       [24292.95070469],\n",
       "       [71092.08937734],\n",
       "       [70406.46385401],\n",
       "       [85855.43178022],\n",
       "       [82130.28024882],\n",
       "       [64066.93993136],\n",
       "       [22551.45810544],\n",
       "       [40100.92725977],\n",
       "       [82845.77788785],\n",
       "       [42148.22253212],\n",
       "       [27997.34901637],\n",
       "       [61425.14314502],\n",
       "       [37418.52296516],\n",
       "       [60851.34064779],\n",
       "       [93986.52171716],\n",
       "       [43233.92722756],\n",
       "       [52573.64111021],\n",
       "       [91390.46981931],\n",
       "       [78383.70628655],\n",
       "       [83544.90946978],\n",
       "       [25788.43457624],\n",
       "       [75273.59407395],\n",
       "       [67672.62771726],\n",
       "       [83015.86292684],\n",
       "       [50037.84380853],\n",
       "       [33739.46230859],\n",
       "       [84394.6168758 ],\n",
       "       [74800.78915134],\n",
       "       [92844.06969324],\n",
       "       [90451.68183744],\n",
       "       [69906.45503625],\n",
       "       [26615.75347185],\n",
       "       [98367.55882949],\n",
       "       [83145.51493153],\n",
       "       [54208.53903517],\n",
       "       [90726.14150122],\n",
       "       [25513.01209256],\n",
       "       [84282.08945319],\n",
       "       [72350.18691048],\n",
       "       [71469.89841014],\n",
       "       [95340.20802006],\n",
       "       [39118.1467101 ],\n",
       "       [91839.9338983 ],\n",
       "       [49021.91912755],\n",
       "       [35340.48531204],\n",
       "       [35624.76601452],\n",
       "       [71272.53144979],\n",
       "       [39595.5238305 ]])"
      ]
     },
     "execution_count": 48,
     "metadata": {},
     "output_type": "execute_result"
    }
   ],
   "source": [
    "n = len(precio)\n",
    "X = np.array(precio).reshape((n,1))\n",
    "X"
   ]
  },
  {
   "cell_type": "code",
   "execution_count": 49,
   "metadata": {},
   "outputs": [
    {
     "data": {
      "text/plain": [
       "array([[4.18832441e+11]])"
      ]
     },
     "execution_count": 49,
     "metadata": {},
     "output_type": "execute_result"
    }
   ],
   "source": [
    "X.T.dot(X)"
   ]
  },
  {
   "cell_type": "code",
   "execution_count": 51,
   "metadata": {},
   "outputs": [
    {
     "data": {
      "text/plain": [
       "matrix([[74686.56135723],\n",
       "        [89832.30246231],\n",
       "        [75209.38305184],\n",
       "        [29274.88626912],\n",
       "        [35600.72939843],\n",
       "        [56896.06858417],\n",
       "        [36282.81923011],\n",
       "        [67267.93918759],\n",
       "        [49911.04556248],\n",
       "        [31303.84989083],\n",
       "        [27692.4752444 ],\n",
       "        [76229.91291806],\n",
       "        [26207.01387525],\n",
       "        [38791.70738161],\n",
       "        [96760.01278684],\n",
       "        [83608.01039264],\n",
       "        [50925.31612143],\n",
       "        [98101.3317965 ],\n",
       "        [27623.19376692],\n",
       "        [66552.1065332 ],\n",
       "        [57785.18788517],\n",
       "        [44187.70069256],\n",
       "        [28824.11377504],\n",
       "        [65740.71463197],\n",
       "        [83259.307798  ],\n",
       "        [71060.17353013],\n",
       "        [44904.52256054],\n",
       "        [75417.42123663],\n",
       "        [73969.23402324],\n",
       "        [80656.21938556],\n",
       "        [87300.47605932],\n",
       "        [39236.33918166],\n",
       "        [74380.85243106],\n",
       "        [25635.48827544],\n",
       "        [71724.87020493],\n",
       "        [28169.73738372],\n",
       "        [96460.95070988],\n",
       "        [79858.52185637],\n",
       "        [32018.13699678],\n",
       "        [44610.06715894],\n",
       "        [92634.48927552],\n",
       "        [34241.8923229 ],\n",
       "        [42092.80416369],\n",
       "        [52391.1937885 ],\n",
       "        [95715.29190987],\n",
       "        [35817.68464297],\n",
       "        [30633.94166529],\n",
       "        [60647.54359424],\n",
       "        [25769.59149912],\n",
       "        [66021.44146338],\n",
       "        [81437.06504256],\n",
       "        [44981.88121244],\n",
       "        [24292.95070469],\n",
       "        [71092.08937734],\n",
       "        [70406.46385401],\n",
       "        [85855.43178022],\n",
       "        [82130.28024882],\n",
       "        [64066.93993136],\n",
       "        [22551.45810544],\n",
       "        [40100.92725977],\n",
       "        [82845.77788785],\n",
       "        [42148.22253212],\n",
       "        [27997.34901637],\n",
       "        [61425.14314502],\n",
       "        [37418.52296516],\n",
       "        [60851.34064779],\n",
       "        [93986.52171716],\n",
       "        [43233.92722756],\n",
       "        [52573.64111021],\n",
       "        [91390.46981931],\n",
       "        [78383.70628655],\n",
       "        [83544.90946978],\n",
       "        [25788.43457624],\n",
       "        [75273.59407395],\n",
       "        [67672.62771726],\n",
       "        [83015.86292684],\n",
       "        [50037.84380853],\n",
       "        [33739.46230859],\n",
       "        [84394.6168758 ],\n",
       "        [74800.78915134],\n",
       "        [92844.06969324],\n",
       "        [90451.68183744],\n",
       "        [69906.45503625],\n",
       "        [26615.75347185],\n",
       "        [98367.55882949],\n",
       "        [83145.51493153],\n",
       "        [54208.53903517],\n",
       "        [90726.14150122],\n",
       "        [25513.01209256],\n",
       "        [84282.08945319],\n",
       "        [72350.18691048],\n",
       "        [71469.89841014],\n",
       "        [95340.20802006],\n",
       "        [39118.1467101 ],\n",
       "        [91839.9338983 ],\n",
       "        [49021.91912755],\n",
       "        [35340.48531204],\n",
       "        [35624.76601452],\n",
       "        [71272.53144979],\n",
       "        [39595.5238305 ]])"
      ]
     },
     "execution_count": 51,
     "metadata": {},
     "output_type": "execute_result"
    }
   ],
   "source": [
    "X = np.matrix(precio).T\n",
    "X"
   ]
  },
  {
   "cell_type": "code",
   "execution_count": 55,
   "metadata": {},
   "outputs": [
    {
     "data": {
      "text/plain": [
       "0.0001321574902209004"
      ]
     },
     "execution_count": 55,
     "metadata": {},
     "output_type": "execute_result"
    }
   ],
   "source": [
    "y = np.matrix(calidad).T\n",
    "sol = solve(X.T.dot(X), X.T.dot(y))\n",
    "coef = sol[0,0]\n",
    "coef"
   ]
  },
  {
   "cell_type": "code",
   "execution_count": 87,
   "metadata": {},
   "outputs": [
    {
     "data": {
      "text/plain": [
       "[<matplotlib.lines.Line2D at 0x7f24991fde10>]"
      ]
     },
     "execution_count": 87,
     "metadata": {},
     "output_type": "execute_result"
    },
    {
     "data": {
      "image/png": "[encoded data removed]",
      "text/plain": [
       "<Figure size 432x288 with 1 Axes>"
      ]
     },
     "metadata": {},
     "output_type": "display_data"
    }
   ],
   "source": [
    "mesh = np.linspace(start=10000, stop=120000, num=10000)\n",
    "calidad_mesh = coef*mesh\n",
    "plt.scatter(precio, calidad)\n",
    "#plt.plot(precio, calidad, \".r\")\n",
    "plt.plot(mesh, calidad_mesh, \"r\") # grafico continuo de curva."
   ]
  },
  {
   "cell_type": "code",
   "execution_count": 63,
   "metadata": {},
   "outputs": [
    {
     "data": {
      "text/plain": [
       "4.351519103269718"
      ]
     },
     "execution_count": 63,
     "metadata": {},
     "output_type": "execute_result"
    }
   ],
   "source": [
    "# Calcular el error cuadrático.\n",
    "calidad_predicha = coef*np.array(precio)\n",
    "errores = (np.array(calidad) - calidad_predicha)**2\n",
    "error2_promedio = errores.mean()\n",
    "error2_promedio"
   ]
  },
  {
   "cell_type": "markdown",
   "metadata": {},
   "source": [
    "# Agregamos el término de Intercept ($\\beta_0$)"
   ]
  },
  {
   "cell_type": "code",
   "execution_count": 81,
   "metadata": {},
   "outputs": [],
   "source": [
    "precio_X = np.matrix(precio).T\n",
    "calidad_Y = np.matrix(calidad).T\n",
    "n = precio_X.shape[0]\n",
    "unos = np.ones((n,1))"
   ]
  },
  {
   "cell_type": "code",
   "execution_count": 82,
   "metadata": {},
   "outputs": [
    {
     "data": {
      "text/plain": [
       "matrix([[1.00000000e+00, 7.46865614e+04],\n",
       "        [1.00000000e+00, 8.98323025e+04],\n",
       "        [1.00000000e+00, 7.52093831e+04],\n",
       "        [1.00000000e+00, 2.92748863e+04],\n",
       "        [1.00000000e+00, 3.56007294e+04],\n",
       "        [1.00000000e+00, 5.68960686e+04],\n",
       "        [1.00000000e+00, 3.62828192e+04],\n",
       "        [1.00000000e+00, 6.72679392e+04],\n",
       "        [1.00000000e+00, 4.99110456e+04],\n",
       "        [1.00000000e+00, 3.13038499e+04],\n",
       "        [1.00000000e+00, 2.76924752e+04],\n",
       "        [1.00000000e+00, 7.62299129e+04],\n",
       "        [1.00000000e+00, 2.62070139e+04],\n",
       "        [1.00000000e+00, 3.87917074e+04],\n",
       "        [1.00000000e+00, 9.67600128e+04],\n",
       "        [1.00000000e+00, 8.36080104e+04],\n",
       "        [1.00000000e+00, 5.09253161e+04],\n",
       "        [1.00000000e+00, 9.81013318e+04],\n",
       "        [1.00000000e+00, 2.76231938e+04],\n",
       "        [1.00000000e+00, 6.65521065e+04],\n",
       "        [1.00000000e+00, 5.77851879e+04],\n",
       "        [1.00000000e+00, 4.41877007e+04],\n",
       "        [1.00000000e+00, 2.88241138e+04],\n",
       "        [1.00000000e+00, 6.57407146e+04],\n",
       "        [1.00000000e+00, 8.32593078e+04],\n",
       "        [1.00000000e+00, 7.10601735e+04],\n",
       "        [1.00000000e+00, 4.49045226e+04],\n",
       "        [1.00000000e+00, 7.54174212e+04],\n",
       "        [1.00000000e+00, 7.39692340e+04],\n",
       "        [1.00000000e+00, 8.06562194e+04],\n",
       "        [1.00000000e+00, 8.73004761e+04],\n",
       "        [1.00000000e+00, 3.92363392e+04],\n",
       "        [1.00000000e+00, 7.43808524e+04],\n",
       "        [1.00000000e+00, 2.56354883e+04],\n",
       "        [1.00000000e+00, 7.17248702e+04],\n",
       "        [1.00000000e+00, 2.81697374e+04],\n",
       "        [1.00000000e+00, 9.64609507e+04],\n",
       "        [1.00000000e+00, 7.98585219e+04],\n",
       "        [1.00000000e+00, 3.20181370e+04],\n",
       "        [1.00000000e+00, 4.46100672e+04],\n",
       "        [1.00000000e+00, 9.26344893e+04],\n",
       "        [1.00000000e+00, 3.42418923e+04],\n",
       "        [1.00000000e+00, 4.20928042e+04],\n",
       "        [1.00000000e+00, 5.23911938e+04],\n",
       "        [1.00000000e+00, 9.57152919e+04],\n",
       "        [1.00000000e+00, 3.58176846e+04],\n",
       "        [1.00000000e+00, 3.06339417e+04],\n",
       "        [1.00000000e+00, 6.06475436e+04],\n",
       "        [1.00000000e+00, 2.57695915e+04],\n",
       "        [1.00000000e+00, 6.60214415e+04],\n",
       "        [1.00000000e+00, 8.14370650e+04],\n",
       "        [1.00000000e+00, 4.49818812e+04],\n",
       "        [1.00000000e+00, 2.42929507e+04],\n",
       "        [1.00000000e+00, 7.10920894e+04],\n",
       "        [1.00000000e+00, 7.04064639e+04],\n",
       "        [1.00000000e+00, 8.58554318e+04],\n",
       "        [1.00000000e+00, 8.21302802e+04],\n",
       "        [1.00000000e+00, 6.40669399e+04],\n",
       "        [1.00000000e+00, 2.25514581e+04],\n",
       "        [1.00000000e+00, 4.01009273e+04],\n",
       "        [1.00000000e+00, 8.28457779e+04],\n",
       "        [1.00000000e+00, 4.21482225e+04],\n",
       "        [1.00000000e+00, 2.79973490e+04],\n",
       "        [1.00000000e+00, 6.14251431e+04],\n",
       "        [1.00000000e+00, 3.74185230e+04],\n",
       "        [1.00000000e+00, 6.08513406e+04],\n",
       "        [1.00000000e+00, 9.39865217e+04],\n",
       "        [1.00000000e+00, 4.32339272e+04],\n",
       "        [1.00000000e+00, 5.25736411e+04],\n",
       "        [1.00000000e+00, 9.13904698e+04],\n",
       "        [1.00000000e+00, 7.83837063e+04],\n",
       "        [1.00000000e+00, 8.35449095e+04],\n",
       "        [1.00000000e+00, 2.57884346e+04],\n",
       "        [1.00000000e+00, 7.52735941e+04],\n",
       "        [1.00000000e+00, 6.76726277e+04],\n",
       "        [1.00000000e+00, 8.30158629e+04],\n",
       "        [1.00000000e+00, 5.00378438e+04],\n",
       "        [1.00000000e+00, 3.37394623e+04],\n",
       "        [1.00000000e+00, 8.43946169e+04],\n",
       "        [1.00000000e+00, 7.48007892e+04],\n",
       "        [1.00000000e+00, 9.28440697e+04],\n",
       "        [1.00000000e+00, 9.04516818e+04],\n",
       "        [1.00000000e+00, 6.99064550e+04],\n",
       "        [1.00000000e+00, 2.66157535e+04],\n",
       "        [1.00000000e+00, 9.83675588e+04],\n",
       "        [1.00000000e+00, 8.31455149e+04],\n",
       "        [1.00000000e+00, 5.42085390e+04],\n",
       "        [1.00000000e+00, 9.07261415e+04],\n",
       "        [1.00000000e+00, 2.55130121e+04],\n",
       "        [1.00000000e+00, 8.42820895e+04],\n",
       "        [1.00000000e+00, 7.23501869e+04],\n",
       "        [1.00000000e+00, 7.14698984e+04],\n",
       "        [1.00000000e+00, 9.53402080e+04],\n",
       "        [1.00000000e+00, 3.91181467e+04],\n",
       "        [1.00000000e+00, 9.18399339e+04],\n",
       "        [1.00000000e+00, 4.90219191e+04],\n",
       "        [1.00000000e+00, 3.53404853e+04],\n",
       "        [1.00000000e+00, 3.56247660e+04],\n",
       "        [1.00000000e+00, 7.12725314e+04],\n",
       "        [1.00000000e+00, 3.95955238e+04]])"
      ]
     },
     "execution_count": 82,
     "metadata": {},
     "output_type": "execute_result"
    }
   ],
   "source": [
    "X = np.concatenate([unos, precio_X], axis=1) # axis=1 ==> concatenar por columna\n",
    "X"
   ]
  },
  {
   "cell_type": "code",
   "execution_count": 83,
   "metadata": {},
   "outputs": [
    {
     "data": {
      "text/plain": [
       "matrix([[2.08609247e+00],\n",
       "        [1.02101780e-04]])"
      ]
     },
     "execution_count": 83,
     "metadata": {},
     "output_type": "execute_result"
    }
   ],
   "source": [
    "coefs = solve(X.T.dot(X), X.T.dot(calidad_Y))\n",
    "coefs"
   ]
  },
  {
   "cell_type": "code",
   "execution_count": 88,
   "metadata": {},
   "outputs": [
    {
     "data": {
      "text/plain": [
       "[<matplotlib.lines.Line2D at 0x7f24990f5908>]"
      ]
     },
     "execution_count": 88,
     "metadata": {},
     "output_type": "execute_result"
    },
    {
     "data": {
      "image/png": "[encoded data removed]",
      "text/plain": [
       "<Figure size 432x288 with 1 Axes>"
      ]
     },
     "metadata": {},
     "output_type": "display_data"
    }
   ],
   "source": [
    "calidad_mesh2 = coefs[0,0] + coefs[1,0]*mesh\n",
    "plt.scatter(precio, calidad)\n",
    "plt.plot(mesh, calidad_mesh2, \"r\")\n",
    "plt.plot(mesh, calidad_mesh, \"g\")"
   ]
  },
  {
   "cell_type": "code",
   "execution_count": 100,
   "metadata": {},
   "outputs": [
    {
     "data": {
      "text/plain": [
       "3.783242222312755"
      ]
     },
     "execution_count": 100,
     "metadata": {},
     "output_type": "execute_result"
    }
   ],
   "source": [
    "calidad_predicha2 = coefs[0,0] + coefs[1,0]*precio_X\n",
    "calidad_predicha2.shape\n",
    "calidad_Y.shape\n",
    "errores_modelo2 = (np.array(calidad_Y) - np.array(calidad_predicha2))**2\n",
    "errores_modelo2.mean()"
   ]
  },
  {
   "cell_type": "markdown",
   "metadata": {},
   "source": [
    "## Ejercicios\n",
    "1) Ajustar un modelo cuadrático, es decir:\n",
    "$$\n",
    "Calidad= \\beta_0 + \\beta_1\\cdot Precio + \\beta_2 \\cdot Precio^2 + \\varepsilon\n",
    "$$\n",
    "2) determinar el error cuadrático de ajuste.\n",
    "\n",
    "3) Graficar los tres modelos (el de pendiente, el lineal completo y el cuadrático).\n",
    "\n",
    "4) "
   ]
  },
  {
   "cell_type": "code",
   "execution_count": null,
   "metadata": {},
   "outputs": [],
   "source": []
  }
 ],
 "metadata": {
  "kernelspec": {
   "display_name": "Python 3",
   "language": "python",
   "name": "python3"
  },
  "language_info": {
   "codemirror_mode": {
    "name": "ipython",
    "version": 3
   },
   "file_extension": ".py",
   "mimetype": "text/x-python",
   "name": "python",
   "nbconvert_exporter": "python",
   "pygments_lexer": "ipython3",
   "version": "3.6.5"
  }
 },
 "nbformat": 4,
 "nbformat_minor": 2
}
