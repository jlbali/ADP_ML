{
 "cells": [
  {
   "cell_type": "markdown",
   "metadata": {},
   "source": [
    "Repaso de lo anterior"
   ]
  },
  {
   "cell_type": "code",
   "execution_count": 16,
   "metadata": {},
   "outputs": [],
   "source": [
    "import numpy as np\n",
    "import pandas as pd\n",
    "from pandas import Series, DataFrame\n",
    "from sklearn.linear_model import LinearRegression, Lasso\n",
    "import matplotlib.pyplot as plt\n",
    "% matplotlib inline"
   ]
  },
  {
   "cell_type": "code",
   "execution_count": 5,
   "metadata": {},
   "outputs": [
    {
     "data": {
      "text/plain": [
       "<matplotlib.collections.PathCollection at 0x7fa91b0e0048>"
      ]
     },
     "execution_count": 5,
     "metadata": {},
     "output_type": "execute_result"
    },
    {
     "data": {
      "image/png": "[encoded data removed]",
      "text/plain": [
       "<Figure size 432x288 with 1 Axes>"
      ]
     },
     "metadata": {},
     "output_type": "display_data"
    }
   ],
   "source": [
    "x = np.random.uniform(low=0.0, high= 10.0,\\\n",
    "                      size=100)\n",
    "y = 5.0 + 2.0*x + 0.4*(x**2) + np.random.normal(loc=0.0, scale=3.5, size=100)\n",
    "plt.scatter(x,y)"
   ]
  },
  {
   "cell_type": "code",
   "execution_count": 9,
   "metadata": {},
   "outputs": [],
   "source": [
    "# Las particiones del K-fold.\n",
    "k = 5\n",
    "n = len(x)\n",
    "fold_size = n // k\n",
    "urna = range(n)\n",
    "folds = []\n",
    "for i in range(k-1):\n",
    "    fold = np.random.choice(urna, \\\n",
    "            size= fold_size, replace=False)\n",
    "    folds.append(fold)\n",
    "    urna = np.setdiff1d(urna, fold)\n",
    "folds.append(urna)\n"
   ]
  },
  {
   "cell_type": "code",
   "execution_count": 10,
   "metadata": {},
   "outputs": [
    {
     "data": {
      "text/plain": [
       "[array([36, 38, 68, 37, 66, 54, 41, 74, 26, 78, 56, 62, 59, 69, 40,  7, 77,\n",
       "        29, 57, 80]),\n",
       " array([ 3, 11, 67, 92, 60, 47, 32,  5, 81, 43, 44, 23, 75, 70, 53, 21, 50,\n",
       "        46, 90, 93]),\n",
       " array([85, 84, 14, 64, 34,  6, 58, 49,  2, 71, 97, 86, 15, 27, 51,  9, 89,\n",
       "        61, 20, 39]),\n",
       " array([17, 25,  4, 10, 88, 33, 76, 95, 98, 30, 48,  0, 52, 72, 18, 94, 79,\n",
       "        42,  1, 22]),\n",
       " array([ 8, 12, 13, 16, 19, 24, 28, 31, 35, 45, 55, 63, 65, 73, 82, 83, 87,\n",
       "        91, 96, 99])]"
      ]
     },
     "execution_count": 10,
     "metadata": {},
     "output_type": "execute_result"
    }
   ],
   "source": [
    "folds"
   ]
  },
  {
   "cell_type": "code",
   "execution_count": 11,
   "metadata": {},
   "outputs": [
    {
     "data": {
      "text/plain": [
       "113.22746937972074"
      ]
     },
     "execution_count": 11,
     "metadata": {},
     "output_type": "execute_result"
    }
   ],
   "source": [
    "# Analizamos el modelo Lineal.\n",
    "error_1 = 0.0\n",
    "urna = range(n)\n",
    "x = x.reshape(n,1)\n",
    "y = y.reshape(n,1)\n",
    "for i in range(k):\n",
    "    test_index = folds[i]\n",
    "    train_index = np.setdiff1d(urna, test_index)\n",
    "    x_train = x[train_index]\n",
    "    x_test = x[test_index]\n",
    "    y_train = y[train_index]\n",
    "    y_test = y[test_index]\n",
    "    model = LinearRegression()\n",
    "    model.fit(x_train, y_train)\n",
    "    y_pred = model.predict(x_test)\n",
    "    error_1 += np.mean((y_test - y_pred)**2)\n",
    "error_1"
   ]
  },
  {
   "cell_type": "code",
   "execution_count": 12,
   "metadata": {},
   "outputs": [
    {
     "data": {
      "text/plain": [
       "49.42981170886331"
      ]
     },
     "execution_count": 12,
     "metadata": {},
     "output_type": "execute_result"
    }
   ],
   "source": [
    "## Modelo cuadratico.\n",
    "error_2 = 0.0\n",
    "urna = range(n)\n",
    "for i in range(k):\n",
    "    test_index = folds[i]\n",
    "    train_index = np.setdiff1d(urna, test_index)\n",
    "    x_train = x[train_index]\n",
    "    x_test = x[test_index]\n",
    "    y_train = y[train_index]\n",
    "    y_test = y[test_index]\n",
    "    X_train = np.concatenate([x_train, x_train**2], axis=1)\n",
    "    X_test = np.concatenate([x_test, x_test**2], axis=1)\n",
    "    model = LinearRegression()\n",
    "    model.fit(X_train, y_train)\n",
    "    y_pred = model.predict(X_test)\n",
    "    error_2 += np.mean((y_test - y_pred)**2)\n",
    "error_2"
   ]
  },
  {
   "cell_type": "code",
   "execution_count": 13,
   "metadata": {},
   "outputs": [
    {
     "data": {
      "text/plain": [
       "51.044949612683524"
      ]
     },
     "execution_count": 13,
     "metadata": {},
     "output_type": "execute_result"
    }
   ],
   "source": [
    "## Modelo cubico.\n",
    "error_3 = 0.0\n",
    "urna = range(n)\n",
    "for i in range(k):\n",
    "    test_index = folds[i]\n",
    "    train_index = np.setdiff1d(urna, test_index)\n",
    "    x_train = x[train_index]\n",
    "    x_test = x[test_index]\n",
    "    y_train = y[train_index]\n",
    "    y_test = y[test_index]\n",
    "    X_train = np.concatenate([x_train, x_train**2, x_train**3], axis=1)\n",
    "    X_test = np.concatenate([x_test, x_test**2, x_test**3], axis=1)\n",
    "    model = LinearRegression()\n",
    "    model.fit(X_train, y_train)\n",
    "    y_pred = model.predict(X_test)\n",
    "    error_3 += np.mean((y_test - y_pred)**2)\n",
    "error_3"
   ]
  },
  {
   "cell_type": "code",
   "execution_count": 14,
   "metadata": {},
   "outputs": [],
   "source": [
    "## Ejercicio: hacer Leave-one-out CV.\n"
   ]
  },
  {
   "cell_type": "markdown",
   "metadata": {},
   "source": [
    "# Lasso Regression.\n"
   ]
  },
  {
   "cell_type": "code",
   "execution_count": 18,
   "metadata": {},
   "outputs": [
    {
     "data": {
      "text/plain": [
       "<matplotlib.collections.PathCollection at 0x7fa91ab7df28>"
      ]
     },
     "execution_count": 18,
     "metadata": {},
     "output_type": "execute_result"
    },
    {
     "data": {
      "image/png": "[encoded data removed]",
      "text/plain": [
       "<Figure size 432x288 with 1 Axes>"
      ]
     },
     "metadata": {},
     "output_type": "display_data"
    }
   ],
   "source": [
    "x = np.random.uniform(low=0.0, high= 10.0,\\\n",
    "                      size=100)\n",
    "y = 5.0 + 2.0*x + 0.4*(x**2) + np.random.normal(loc=0.0, scale=3.5, size=100)\n",
    "x = x.reshape(100,1)\n",
    "y = y.reshape(100,1)\n",
    "plt.scatter(x,y)"
   ]
  },
  {
   "cell_type": "code",
   "execution_count": 20,
   "metadata": {},
   "outputs": [
    {
     "data": {
      "text/plain": [
       "Lasso(alpha=0.5, copy_X=True, fit_intercept=True, max_iter=1000,\n",
       "   normalize=True, positive=False, precompute=False, random_state=None,\n",
       "   selection='cyclic', tol=0.0001, warm_start=False)"
      ]
     },
     "execution_count": 20,
     "metadata": {},
     "output_type": "execute_result"
    }
   ],
   "source": [
    "modelo = Lasso(alpha=0.5, normalize=True)\n",
    "X = x\n",
    "modelo.fit(X, y)"
   ]
  },
  {
   "cell_type": "code",
   "execution_count": 21,
   "metadata": {},
   "outputs": [
    {
     "data": {
      "text/plain": [
       "array([4.32119978])"
      ]
     },
     "execution_count": 21,
     "metadata": {},
     "output_type": "execute_result"
    }
   ],
   "source": [
    "modelo.coef_"
   ]
  },
  {
   "cell_type": "code",
   "execution_count": 22,
   "metadata": {},
   "outputs": [],
   "source": [
    "X_2 = np.concatenate([x, x**2], axis=1)\n",
    "X_3 = np.concatenate([x, x**2, x**3], axis=1)\n"
   ]
  },
  {
   "cell_type": "code",
   "execution_count": 23,
   "metadata": {},
   "outputs": [
    {
     "data": {
      "text/plain": [
       "array([1.44747271, 0.28373183])"
      ]
     },
     "execution_count": 23,
     "metadata": {},
     "output_type": "execute_result"
    }
   ],
   "source": [
    "modelo2 = Lasso(alpha=0.5, normalize=True)\n",
    "modelo2.fit(X_2, y)\n",
    "modelo2.coef_"
   ]
  },
  {
   "cell_type": "code",
   "execution_count": 24,
   "metadata": {},
   "outputs": [
    {
     "data": {
      "text/plain": [
       "array([1.44743644, 0.2837352 , 0.        ])"
      ]
     },
     "execution_count": 24,
     "metadata": {},
     "output_type": "execute_result"
    }
   ],
   "source": [
    "modelo3 = Lasso(alpha=0.5, normalize=True)\n",
    "modelo3.fit(X_3, y)\n",
    "modelo3.coef_"
   ]
  },
  {
   "cell_type": "markdown",
   "metadata": {},
   "source": [
    "¿Y el $\\alpha$ cómo se elige?"
   ]
  },
  {
   "cell_type": "code",
   "execution_count": null,
   "metadata": {},
   "outputs": [],
   "source": []
  }
 ],
 "metadata": {
  "kernelspec": {
   "display_name": "Python 3",
   "language": "python",
   "name": "python3"
  },
  "language_info": {
   "codemirror_mode": {
    "name": "ipython",
    "version": 3
   },
   "file_extension": ".py",
   "mimetype": "text/x-python",
   "name": "python",
   "nbconvert_exporter": "python",
   "pygments_lexer": "ipython3",
   "version": "3.6.5"
  }
 },
 "nbformat": 4,
 "nbformat_minor": 2
}
