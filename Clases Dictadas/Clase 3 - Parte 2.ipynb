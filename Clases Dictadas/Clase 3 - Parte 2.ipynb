{
 "cells": [
  {
   "cell_type": "markdown",
   "metadata": {},
   "source": [
    "# Apertura de un archivo"
   ]
  },
  {
   "cell_type": "code",
   "execution_count": 1,
   "metadata": {},
   "outputs": [
    {
     "name": "stdout",
     "output_type": "stream",
     "text": [
      "precio calidad\n",
      "['74686.5613572299', '11.3004311992867']\n",
      "['89832.3024623096', '12.1322665110365']\n",
      "['75209.3830518425', '8.55013025423744']\n",
      "['29274.8862691224', '4.95897397178145']\n",
      "['35600.7293984294', '7.5885023042731']\n",
      "['56896.0685841739', '7.80590536901736']\n",
      "['36282.8192301095', '10.1648728992009']\n",
      "['67267.9391875863', '10.1441002939895']\n",
      "['49911.0455624759', '10.1360621260508']\n",
      "['31303.8498908281', '6.90478958358832']\n",
      "['27692.4752444029', '1.94590924556243']\n",
      "['76229.912918061', '11.2305415476531']\n",
      "['26207.013875246', '3.51594059729099']\n",
      "['38791.7073816061', '6.73064733511303']\n",
      "['96760.0127868354', '10.1350519931889']\n",
      "['83608.0103926361', '9.10362740232398']\n",
      "['50925.3161214292', '7.0557523162749']\n",
      "['98101.3317964971', '10.4901849284659']\n",
      "['27623.1937669218', '3.74146205185923']\n",
      "['66552.1065331995', '9.94795150452882']\n",
      "['57785.1878851652', '6.84657554972122']\n",
      "['44187.7006925642', '9.16969068145705']\n",
      "['28824.1137750447', '7.27761050859721']\n",
      "['65740.7146319747', '7.34141190240429']\n",
      "['83259.3077979982', '8.24803825288193']\n",
      "['71060.1735301316', '9.90511632617056']\n",
      "['44904.5225605369', '6.93161399664321']\n",
      "['75417.4212366343', '10.3363243020862']\n",
      "['73969.2340232432', '9.45098280404562']\n",
      "['80656.2193855643', '12.5337677004694']\n",
      "['87300.4760593176', '10.7912653163859']\n",
      "['39236.3391816616', '3.19580573342383']\n",
      "['74380.8524310589', '11.247992770713']\n",
      "['25635.4882754385', '0.42469221645733']\n",
      "['71724.8702049255', '9.59806377988994']\n",
      "['28169.7373837233', '5.06501921339332']\n",
      "['96460.9507098794', '11.7531567277918']\n",
      "['79858.5218563676', '10.645955689987']\n",
      "['32018.1369967759', '8.53167962256327']\n",
      "['44610.0671589375', '5.85246797280633']\n",
      "['92634.4892755151', '8.43980083718689']\n",
      "['34241.8923228979', '8.26706419553504']\n",
      "['42092.8041636944', '4.90379104921224']\n",
      "['52391.1937884986', '3.89577755900987']\n",
      "['95715.2919098735', '9.82660653357791']\n",
      "['35817.6846429706', '7.26021346725632']\n",
      "['30633.9416652918', '2.72738638657931']\n",
      "['60647.5435942411', '10.2395536501634']\n",
      "['25769.59149912', '6.29530709159888']\n",
      "['66021.4414633811', '8.39144307400899']\n",
      "['81437.0650425553', '9.81634756203881']\n",
      "['44981.8812124431', '5.65485143276148']\n",
      "['24292.9507046938', '4.80193957782305']\n",
      "['71092.0893773437', '15.9367291057084']\n",
      "['70406.4638540149', '8.80069831254646']\n",
      "['85855.4317802191', '9.38139429730706']\n",
      "['82130.2802488208', '10.1627397138845']\n",
      "['64066.9399313629', '6.60982139081841']\n",
      "['22551.4581054449', '3.55814586699865']\n",
      "['40100.927259773', '5.33147401483485']\n",
      "['82845.777887851', '10.9663154776058']\n",
      "['42148.2225321233', '10.2365995229268']\n",
      "['27997.3490163684', '1.80197501886611']\n",
      "['61425.1431450248', '11.0154014756666']\n",
      "['37418.522965163', '5.21060135163721']\n",
      "['60851.3406477869', '6.79255800197158']\n",
      "['93986.5217171609', '10.5473588328328']\n",
      "['43233.9272275567', '5.69157977432145']\n",
      "['52573.6411102116', '7.19386534328401']\n",
      "['91390.4698193073', '9.23836289204037']\n",
      "['78383.7062865496', '9.53549035258053']\n",
      "['83544.9094697833', '9.34981327079472']\n",
      "['25788.4345762432', '2.02244290535146']\n",
      "['75273.5940739512', '8.36398504022057']\n",
      "['67672.6277172565', '7.96735878954777']\n",
      "['83015.8629268408', '11.6591214379182']\n",
      "['50037.8438085318', '6.73322386565636']\n",
      "['33739.4623085856', '6.0311232230356']\n",
      "['84394.6168757975', '13.0537348965583']\n",
      "['74800.7891513407', '12.6922850115715']\n",
      "['92844.0696932375', '11.1891670470007']\n",
      "['90451.6818374395', '14.8067463434034']\n",
      "['69906.4550362527', '9.33035777853419']\n",
      "['26615.7534718513', '5.59964158312265']\n",
      "['98367.5588294864', '10.4459926437314']\n",
      "['83145.5149315298', '11.3969768106804']\n",
      "['54208.5390351713', '4.44597922503927']\n",
      "['90726.1415012181', '16.3486025474977']\n",
      "['25513.0120925605', '4.6912823994192']\n",
      "['84282.0894531906', '7.66483914700119']\n",
      "['72350.1869104803', '9.9074438475909']\n",
      "['71469.8984101415', '8.62869625503613']\n",
      "['95340.2080200613', '12.5728251153755']\n",
      "['39118.1467100978', '6.85924172072254']\n",
      "['91839.9338982999', '12.7286279771338']\n",
      "['49021.9191275537', '8.94212405046956']\n",
      "['35340.4853120446', '6.85585823268949']\n",
      "['35624.7660145164', '4.90539210882039']\n",
      "['71272.5314497948', '8.1268836433296']\n",
      "['39595.5238305032', '4.15044803732039']\n"
     ]
    }
   ],
   "source": [
    "f = open(\"autos.txt\")\n",
    "precio = []\n",
    "calidad = []\n",
    "header = f.readline().strip()\n",
    "print(header)\n",
    "linea = f.readline().strip()\n",
    "while linea != \"\":\n",
    "    partes = linea.split(\" \")\n",
    "    print(partes)\n",
    "    precio.append(float(partes[0]))\n",
    "    calidad.append(float(partes[1]))\n",
    "    linea = f.readline().strip()\n",
    "f.close()"
   ]
  },
  {
   "cell_type": "code",
   "execution_count": 4,
   "metadata": {},
   "outputs": [],
   "source": [
    "import matplotlib.pyplot as plt\n",
    "import numpy as np\n",
    "\n",
    "# Solamente si se ejecuta en Jupyter.\n",
    "% matplotlib inline"
   ]
  },
  {
   "cell_type": "code",
   "execution_count": 5,
   "metadata": {},
   "outputs": [
    {
     "data": {
      "text/plain": [
       "Text(0.5,1,'Autos')"
      ]
     },
     "execution_count": 5,
     "metadata": {},
     "output_type": "execute_result"
    },
    {
     "data": {
      "image/png": "[encoded data removed]",
      "text/plain": [
       "<Figure size 432x288 with 1 Axes>"
      ]
     },
     "metadata": {},
     "output_type": "display_data"
    }
   ],
   "source": [
    "plt.scatter(precio, calidad)\n",
    "plt.xlabel(\"Precio\")\n",
    "plt.ylabel(\"Calidad\")\n",
    "plt.title(\"Autos\")"
   ]
  },
  {
   "cell_type": "code",
   "execution_count": 6,
   "metadata": {},
   "outputs": [
    {
     "data": {
      "text/plain": [
       "array([0., 0., 0., 0., 0., 0., 0., 0., 0., 0., 0., 0., 0., 0., 0., 0., 0.,\n",
       "       0., 0., 0., 0., 0., 0., 0., 0., 0., 0., 0., 0., 0., 0., 0., 0., 0.,\n",
       "       0., 0., 0., 0., 0., 0., 0., 0., 0., 0., 0., 0., 0., 0., 0., 0., 0.,\n",
       "       0., 0., 0., 0., 0., 0., 0., 0., 0., 0., 0., 0., 0., 0., 0., 0., 0.,\n",
       "       0., 0., 0., 0., 0., 0., 0., 0., 0., 0., 0., 0., 0., 0., 0., 0., 0.,\n",
       "       0., 0., 0., 0., 0., 0., 0., 0., 0., 0., 0., 0., 0., 0., 0.])"
      ]
     },
     "execution_count": 6,
     "metadata": {},
     "output_type": "execute_result"
    }
   ],
   "source": [
    "x = np.zeros(100)\n",
    "x"
   ]
  },
  {
   "cell_type": "code",
   "execution_count": 7,
   "metadata": {},
   "outputs": [
    {
     "data": {
      "text/plain": [
       "array([0.  , 0.  , 3.14, 3.14, 3.14, 3.14, 3.14, 3.14, 3.14, 3.14, 3.14,\n",
       "       3.14, 3.14, 3.14, 3.14, 3.14, 3.14, 3.14, 3.14, 3.14, 3.14, 3.14,\n",
       "       3.14, 3.14, 3.14, 3.14, 3.14, 3.14, 3.14, 3.14, 3.14, 3.14, 3.14,\n",
       "       3.14, 3.14, 3.14, 3.14, 3.14, 3.14, 3.14, 3.14, 3.14, 3.14, 3.14,\n",
       "       3.14, 3.14, 3.14, 3.14, 3.14, 3.14, 3.14, 3.14, 3.14, 3.14, 3.14,\n",
       "       3.14, 0.  , 0.  , 0.  , 0.  , 0.  , 0.  , 0.  , 0.  , 0.  , 0.  ,\n",
       "       0.  , 0.  , 0.  , 0.  , 0.  , 0.  , 0.  , 0.  , 0.  , 0.  , 0.  ,\n",
       "       0.  , 0.  , 0.  , 0.  , 0.  , 0.  , 0.  , 0.  , 0.  , 0.  , 0.  ,\n",
       "       0.  , 0.  , 0.  , 0.  , 0.  , 0.  , 0.  , 0.  , 0.  , 0.  , 0.  ,\n",
       "       0.  ])"
      ]
     },
     "execution_count": 7,
     "metadata": {},
     "output_type": "execute_result"
    }
   ],
   "source": [
    "x[2:56] = 3.14\n",
    "x"
   ]
  },
  {
   "cell_type": "code",
   "execution_count": 8,
   "metadata": {},
   "outputs": [
    {
     "data": {
      "text/plain": [
       "array([ 7.  ,  7.  , 10.14, 10.14, 10.14, 10.14, 10.14, 10.14, 10.14,\n",
       "       10.14, 10.14, 10.14, 10.14, 10.14, 10.14, 10.14, 10.14, 10.14,\n",
       "       10.14, 10.14, 10.14, 10.14, 10.14, 10.14, 10.14, 10.14, 10.14,\n",
       "       10.14, 10.14, 10.14, 10.14, 10.14, 10.14, 10.14, 10.14, 10.14,\n",
       "       10.14, 10.14, 10.14, 10.14, 10.14, 10.14, 10.14, 10.14, 10.14,\n",
       "       10.14, 10.14, 10.14, 10.14, 10.14, 10.14, 10.14, 10.14, 10.14,\n",
       "       10.14, 10.14,  7.  ,  7.  ,  7.  ,  7.  ,  7.  ,  7.  ,  7.  ,\n",
       "        7.  ,  7.  ,  7.  ,  7.  ,  7.  ,  7.  ,  7.  ,  7.  ,  7.  ,\n",
       "        7.  ,  7.  ,  7.  ,  7.  ,  7.  ,  7.  ,  7.  ,  7.  ,  7.  ,\n",
       "        7.  ,  7.  ,  7.  ,  7.  ,  7.  ,  7.  ,  7.  ,  7.  ,  7.  ,\n",
       "        7.  ,  7.  ,  7.  ,  7.  ,  7.  ,  7.  ,  7.  ,  7.  ,  7.  ,\n",
       "        7.  ])"
      ]
     },
     "execution_count": 8,
     "metadata": {},
     "output_type": "execute_result"
    }
   ],
   "source": [
    "x + 7"
   ]
  },
  {
   "cell_type": "code",
   "execution_count": 9,
   "metadata": {},
   "outputs": [
    {
     "data": {
      "text/plain": [
       "[0.0,\n",
       " 0.0,\n",
       " 0.0,\n",
       " 0.0,\n",
       " 0.0,\n",
       " 0.0,\n",
       " 0.0,\n",
       " 0.0,\n",
       " 0.0,\n",
       " 0.0,\n",
       " 0.0,\n",
       " 0.0,\n",
       " 0.0,\n",
       " 0.0,\n",
       " 0.0,\n",
       " 0.0,\n",
       " 0.0,\n",
       " 0.0,\n",
       " 0.0,\n",
       " 0.0,\n",
       " 0.0,\n",
       " 0.0,\n",
       " 0.0,\n",
       " 0.0,\n",
       " 0.0,\n",
       " 0.0,\n",
       " 0.0,\n",
       " 0.0,\n",
       " 0.0,\n",
       " 0.0,\n",
       " 0.0,\n",
       " 0.0,\n",
       " 0.0,\n",
       " 0.0,\n",
       " 0.0,\n",
       " 0.0,\n",
       " 0.0,\n",
       " 0.0,\n",
       " 0.0,\n",
       " 0.0,\n",
       " 0.0,\n",
       " 0.0,\n",
       " 0.0,\n",
       " 0.0,\n",
       " 0.0,\n",
       " 0.0,\n",
       " 0.0,\n",
       " 0.0,\n",
       " 0.0,\n",
       " 0.0,\n",
       " 0.0,\n",
       " 0.0,\n",
       " 0.0,\n",
       " 0.0,\n",
       " 0.0,\n",
       " 0.0,\n",
       " 0.0,\n",
       " 0.0,\n",
       " 0.0,\n",
       " 0.0,\n",
       " 0.0,\n",
       " 0.0,\n",
       " 0.0,\n",
       " 0.0,\n",
       " 0.0,\n",
       " 0.0,\n",
       " 0.0,\n",
       " 0.0,\n",
       " 0.0,\n",
       " 0.0,\n",
       " 0.0,\n",
       " 0.0,\n",
       " 0.0,\n",
       " 0.0,\n",
       " 0.0,\n",
       " 0.0,\n",
       " 0.0,\n",
       " 0.0,\n",
       " 0.0,\n",
       " 0.0,\n",
       " 0.0,\n",
       " 0.0,\n",
       " 0.0,\n",
       " 0.0,\n",
       " 0.0,\n",
       " 0.0,\n",
       " 0.0,\n",
       " 0.0,\n",
       " 0.0,\n",
       " 0.0,\n",
       " 0.0,\n",
       " 0.0,\n",
       " 0.0,\n",
       " 0.0,\n",
       " 0.0,\n",
       " 0.0,\n",
       " 0.0,\n",
       " 0.0,\n",
       " 0.0,\n",
       " 0.0]"
      ]
     },
     "execution_count": 9,
     "metadata": {},
     "output_type": "execute_result"
    }
   ],
   "source": [
    "lista = []\n",
    "for i in range(100):\n",
    "    lista.append(0.0)\n",
    "lista"
   ]
  },
  {
   "cell_type": "code",
   "execution_count": 10,
   "metadata": {},
   "outputs": [
    {
     "ename": "TypeError",
     "evalue": "can only concatenate list (not \"int\") to list",
     "output_type": "error",
     "traceback": [
      "\u001b[0;31m---------------------------------------------------------------------------\u001b[0m",
      "\u001b[0;31mTypeError\u001b[0m                                 Traceback (most recent call last)",
      "\u001b[0;32m<ipython-input-10-962a43962484>\u001b[0m in \u001b[0;36m<module>\u001b[0;34m()\u001b[0m\n\u001b[0;32m----> 1\u001b[0;31m \u001b[0mlista\u001b[0m \u001b[0;34m+\u001b[0m \u001b[0;36m7\u001b[0m\u001b[0;34m\u001b[0m\u001b[0m\n\u001b[0m",
      "\u001b[0;31mTypeError\u001b[0m: can only concatenate list (not \"int\") to list"
     ]
    }
   ],
   "source": [
    "lista + 7"
   ]
  },
  {
   "cell_type": "code",
   "execution_count": 11,
   "metadata": {},
   "outputs": [
    {
     "data": {
      "text/plain": [
       "[7.0,\n",
       " 7.0,\n",
       " 7.0,\n",
       " 7.0,\n",
       " 7.0,\n",
       " 7.0,\n",
       " 7.0,\n",
       " 7.0,\n",
       " 7.0,\n",
       " 7.0,\n",
       " 7.0,\n",
       " 7.0,\n",
       " 7.0,\n",
       " 7.0,\n",
       " 7.0,\n",
       " 7.0,\n",
       " 7.0,\n",
       " 7.0,\n",
       " 7.0,\n",
       " 7.0,\n",
       " 7.0,\n",
       " 7.0,\n",
       " 7.0,\n",
       " 7.0,\n",
       " 7.0,\n",
       " 7.0,\n",
       " 7.0,\n",
       " 7.0,\n",
       " 7.0,\n",
       " 7.0,\n",
       " 7.0,\n",
       " 7.0,\n",
       " 7.0,\n",
       " 7.0,\n",
       " 7.0,\n",
       " 7.0,\n",
       " 7.0,\n",
       " 7.0,\n",
       " 7.0,\n",
       " 7.0,\n",
       " 7.0,\n",
       " 7.0,\n",
       " 7.0,\n",
       " 7.0,\n",
       " 7.0,\n",
       " 7.0,\n",
       " 7.0,\n",
       " 7.0,\n",
       " 7.0,\n",
       " 7.0,\n",
       " 7.0,\n",
       " 7.0,\n",
       " 7.0,\n",
       " 7.0,\n",
       " 7.0,\n",
       " 7.0,\n",
       " 7.0,\n",
       " 7.0,\n",
       " 7.0,\n",
       " 7.0,\n",
       " 7.0,\n",
       " 7.0,\n",
       " 7.0,\n",
       " 7.0,\n",
       " 7.0,\n",
       " 7.0,\n",
       " 7.0,\n",
       " 7.0,\n",
       " 7.0,\n",
       " 7.0,\n",
       " 7.0,\n",
       " 7.0,\n",
       " 7.0,\n",
       " 7.0,\n",
       " 7.0,\n",
       " 7.0,\n",
       " 7.0,\n",
       " 7.0,\n",
       " 7.0,\n",
       " 7.0,\n",
       " 7.0,\n",
       " 7.0,\n",
       " 7.0,\n",
       " 7.0,\n",
       " 7.0,\n",
       " 7.0,\n",
       " 7.0,\n",
       " 7.0,\n",
       " 7.0,\n",
       " 7.0,\n",
       " 7.0,\n",
       " 7.0,\n",
       " 7.0,\n",
       " 7.0,\n",
       " 7.0,\n",
       " 7.0,\n",
       " 7.0,\n",
       " 7.0,\n",
       " 7.0,\n",
       " 7.0]"
      ]
     },
     "execution_count": 11,
     "metadata": {},
     "output_type": "execute_result"
    }
   ],
   "source": [
    "for i in range(len(lista)):\n",
    "    lista[i] = lista[i] + 7\n",
    "lista"
   ]
  },
  {
   "cell_type": "code",
   "execution_count": 12,
   "metadata": {},
   "outputs": [],
   "source": [
    "x = x + 7"
   ]
  },
  {
   "cell_type": "code",
   "execution_count": 13,
   "metadata": {},
   "outputs": [
    {
     "data": {
      "text/plain": [
       "array([     0,      1,      2, ..., 999997, 999998, 999999])"
      ]
     },
     "execution_count": 13,
     "metadata": {},
     "output_type": "execute_result"
    }
   ],
   "source": [
    "n = 1000000\n",
    "lista = list(range(n))\n",
    "#lista\n",
    "arr = np.arange(0, n)\n",
    "arr\n",
    "#% timeit -n10 lista = list(range(n))\n"
   ]
  },
  {
   "cell_type": "code",
   "execution_count": 19,
   "metadata": {},
   "outputs": [
    {
     "ename": "SyntaxError",
     "evalue": "invalid syntax (<ipython-input-19-9e247eace693>, line 2)",
     "output_type": "error",
     "traceback": [
      "\u001b[0;36m  File \u001b[0;32m\"<ipython-input-19-9e247eace693>\"\u001b[0;36m, line \u001b[0;32m2\u001b[0m\n\u001b[0;31m    %%timeit -n10 setup_code lista = list(range(n))\u001b[0m\n\u001b[0m    ^\u001b[0m\n\u001b[0;31mSyntaxError\u001b[0m\u001b[0;31m:\u001b[0m invalid syntax\n"
     ]
    }
   ],
   "source": [
    "# Medicion de tiempo de multiplicar por 2 la lista.\n",
    "%%timeit -n10 setup_code lista = list(range(n))\n",
    "for i in range(n):\n",
    "    lista[i] *= 2\n"
   ]
  },
  {
   "cell_type": "markdown",
   "metadata": {},
   "source": [
    "ARREGLAR EL TIMEIT QUE ESTA ANDANDO MAL!!!!!!!"
   ]
  },
  {
   "cell_type": "code",
   "execution_count": 15,
   "metadata": {},
   "outputs": [
    {
     "name": "stdout",
     "output_type": "stream",
     "text": [
      "2.24 ms ± 497 µs per loop (mean ± std. dev. of 7 runs, 10 loops each)\n"
     ]
    }
   ],
   "source": [
    "# Medicion de tiempo de multiplicar por 2 el arreglo.\n",
    "% timeit -n10 arr = np.arange(0,n)\n",
    "arr = 2*arr"
   ]
  },
  {
   "cell_type": "markdown",
   "metadata": {},
   "source": [
    "## Matrices"
   ]
  },
  {
   "cell_type": "code",
   "execution_count": 20,
   "metadata": {},
   "outputs": [
    {
     "data": {
      "text/plain": [
       "matrix([[ 3. ,  5. ,  0. ],\n",
       "        [-1. ,  2. ,  3. ],\n",
       "        [ 4. ,  0. , -3.5]])"
      ]
     },
     "execution_count": 20,
     "metadata": {},
     "output_type": "execute_result"
    }
   ],
   "source": [
    "A = np.matrix([ [3, 5, 0], [-1,2,3], [4, 0, -3.5] ])\n",
    "A"
   ]
  },
  {
   "cell_type": "code",
   "execution_count": 23,
   "metadata": {},
   "outputs": [
    {
     "data": {
      "text/plain": [
       "array([5, 8, 3])"
      ]
     },
     "execution_count": 23,
     "metadata": {},
     "output_type": "execute_result"
    }
   ],
   "source": [
    "b = np.array([5,8,3])\n",
    "b"
   ]
  },
  {
   "cell_type": "code",
   "execution_count": 24,
   "metadata": {},
   "outputs": [
    {
     "data": {
      "text/plain": [
       "array([[5],\n",
       "       [8],\n",
       "       [3]])"
      ]
     },
     "execution_count": 24,
     "metadata": {},
     "output_type": "execute_result"
    }
   ],
   "source": [
    "b.reshape((3,1))"
   ]
  },
  {
   "cell_type": "code",
   "execution_count": 22,
   "metadata": {},
   "outputs": [],
   "source": [
    "from numpy.linalg import solve"
   ]
  },
  {
   "cell_type": "code",
   "execution_count": 25,
   "metadata": {},
   "outputs": [
    {
     "data": {
      "text/plain": [
       "array([ 6.97674419, -3.18604651,  7.11627907])"
      ]
     },
     "execution_count": 25,
     "metadata": {},
     "output_type": "execute_result"
    }
   ],
   "source": [
    "x = solve(A, b)\n",
    "x"
   ]
  },
  {
   "cell_type": "code",
   "execution_count": 26,
   "metadata": {},
   "outputs": [
    {
     "data": {
      "text/plain": [
       "matrix([[5., 8., 3.]])"
      ]
     },
     "execution_count": 26,
     "metadata": {},
     "output_type": "execute_result"
    }
   ],
   "source": [
    "#A*x ## ESTA MAL\n",
    "A.dot(x)"
   ]
  },
  {
   "cell_type": "code",
   "execution_count": 34,
   "metadata": {},
   "outputs": [
    {
     "data": {
      "text/plain": [
       "array([5, 8, 3])"
      ]
     },
     "execution_count": 34,
     "metadata": {},
     "output_type": "execute_result"
    }
   ],
   "source": [
    "b"
   ]
  },
  {
   "cell_type": "code",
   "execution_count": 27,
   "metadata": {},
   "outputs": [
    {
     "data": {
      "text/plain": [
       "matrix([[1.77635684e-15, 0.00000000e+00, 0.00000000e+00]])"
      ]
     },
     "execution_count": 27,
     "metadata": {},
     "output_type": "execute_result"
    }
   ],
   "source": [
    "A.dot(x) - b"
   ]
  },
  {
   "cell_type": "code",
   "execution_count": 36,
   "metadata": {},
   "outputs": [
    {
     "data": {
      "text/plain": [
       "matrix([[ 3. , -1. ,  4. ],\n",
       "        [ 5. ,  2. ,  0. ],\n",
       "        [ 0. ,  3. , -3.5]])"
      ]
     },
     "execution_count": 36,
     "metadata": {},
     "output_type": "execute_result"
    }
   ],
   "source": [
    "A.T"
   ]
  },
  {
   "cell_type": "code",
   "execution_count": 28,
   "metadata": {},
   "outputs": [],
   "source": [
    "from numpy.linalg import det, lstsq, inv, eig"
   ]
  },
  {
   "cell_type": "code",
   "execution_count": 29,
   "metadata": {},
   "outputs": [
    {
     "data": {
      "text/plain": [
       "21.499999999999996"
      ]
     },
     "execution_count": 29,
     "metadata": {},
     "output_type": "execute_result"
    }
   ],
   "source": [
    "det(A)"
   ]
  },
  {
   "cell_type": "code",
   "execution_count": 30,
   "metadata": {},
   "outputs": [
    {
     "data": {
      "text/plain": [
       "matrix([[-0.3255814 ,  0.81395349,  0.69767442],\n",
       "        [ 0.39534884, -0.48837209, -0.41860465],\n",
       "        [-0.37209302,  0.93023256,  0.51162791]])"
      ]
     },
     "execution_count": 30,
     "metadata": {},
     "output_type": "execute_result"
    }
   ],
   "source": [
    "inv(A)"
   ]
  },
  {
   "cell_type": "code",
   "execution_count": 31,
   "metadata": {},
   "outputs": [
    {
     "data": {
      "text/plain": [
       "matrix([[ 1.00000000e+00, -2.22044605e-16, -1.66533454e-16],\n",
       "        [ 0.00000000e+00,  1.00000000e+00,  1.38777878e-16],\n",
       "        [ 0.00000000e+00, -2.22044605e-16,  1.00000000e+00]])"
      ]
     },
     "execution_count": 31,
     "metadata": {},
     "output_type": "execute_result"
    }
   ],
   "source": [
    "inv(A).dot(A)"
   ]
  },
  {
   "cell_type": "code",
   "execution_count": 32,
   "metadata": {},
   "outputs": [
    {
     "data": {
      "text/plain": [
       "array([ 4.23426746+0.j       , -1.36713373+1.7912468j,\n",
       "       -1.36713373-1.7912468j])"
      ]
     },
     "execution_count": 32,
     "metadata": {},
     "output_type": "execute_result"
    }
   ],
   "source": [
    "autovalores, autovectore = eig(A)\n",
    "autovalores"
   ]
  },
  {
   "cell_type": "markdown",
   "metadata": {},
   "source": [
    "## Ajuste de los autos"
   ]
  },
  {
   "cell_type": "code",
   "execution_count": 45,
   "metadata": {},
   "outputs": [
    {
     "data": {
      "text/plain": [
       "<matplotlib.collections.PathCollection at 0x7f24996d6208>"
      ]
     },
     "execution_count": 45,
     "metadata": {},
     "output_type": "execute_result"
    },
    {
     "data": {
      "image/png": "[encoded data removed]",
      "text/plain": [
       "<Figure size 432x288 with 1 Axes>"
      ]
     },
     "metadata": {},
     "output_type": "display_data"
    }
   ],
   "source": [
    "plt.scatter(precio, calidad)"
   ]
  },
  {
   "cell_type": "code",
   "execution_count": 46,
   "metadata": {},
   "outputs": [
    {
     "data": {
      "text/plain": [
       "[74686.5613572299,\n",
       " 89832.3024623096,\n",
       " 75209.3830518425,\n",
       " 29274.8862691224,\n",
       " 35600.7293984294,\n",
       " 56896.0685841739,\n",
       " 36282.8192301095,\n",
       " 67267.9391875863,\n",
       " 49911.0455624759,\n",
       " 31303.8498908281,\n",
       " 27692.4752444029,\n",
       " 76229.912918061,\n",
       " 26207.013875246,\n",
       " 38791.7073816061,\n",
       " 96760.0127868354,\n",
       " 83608.0103926361,\n",
       " 50925.3161214292,\n",
       " 98101.3317964971,\n",
       " 27623.1937669218,\n",
       " 66552.1065331995,\n",
       " 57785.1878851652,\n",
       " 44187.7006925642,\n",
       " 28824.1137750447,\n",
       " 65740.7146319747,\n",
       " 83259.3077979982,\n",
       " 71060.1735301316,\n",
       " 44904.5225605369,\n",
       " 75417.4212366343,\n",
       " 73969.2340232432,\n",
       " 80656.2193855643,\n",
       " 87300.4760593176,\n",
       " 39236.3391816616,\n",
       " 74380.8524310589,\n",
       " 25635.4882754385,\n",
       " 71724.8702049255,\n",
       " 28169.7373837233,\n",
       " 96460.9507098794,\n",
       " 79858.5218563676,\n",
       " 32018.1369967759,\n",
       " 44610.0671589375,\n",
       " 92634.4892755151,\n",
       " 34241.8923228979,\n",
       " 42092.8041636944,\n",
       " 52391.1937884986,\n",
       " 95715.2919098735,\n",
       " 35817.6846429706,\n",
       " 30633.9416652918,\n",
       " 60647.5435942411,\n",
       " 25769.59149912,\n",
       " 66021.4414633811,\n",
       " 81437.0650425553,\n",
       " 44981.8812124431,\n",
       " 24292.9507046938,\n",
       " 71092.0893773437,\n",
       " 70406.4638540149,\n",
       " 85855.4317802191,\n",
       " 82130.2802488208,\n",
       " 64066.9399313629,\n",
       " 22551.4581054449,\n",
       " 40100.927259773,\n",
       " 82845.777887851,\n",
       " 42148.2225321233,\n",
       " 27997.3490163684,\n",
       " 61425.1431450248,\n",
       " 37418.522965163,\n",
       " 60851.3406477869,\n",
       " 93986.5217171609,\n",
       " 43233.9272275567,\n",
       " 52573.6411102116,\n",
       " 91390.4698193073,\n",
       " 78383.7062865496,\n",
       " 83544.9094697833,\n",
       " 25788.4345762432,\n",
       " 75273.5940739512,\n",
       " 67672.6277172565,\n",
       " 83015.8629268408,\n",
       " 50037.8438085318,\n",
       " 33739.4623085856,\n",
       " 84394.6168757975,\n",
       " 74800.7891513407,\n",
       " 92844.0696932375,\n",
       " 90451.6818374395,\n",
       " 69906.4550362527,\n",
       " 26615.7534718513,\n",
       " 98367.5588294864,\n",
       " 83145.5149315298,\n",
       " 54208.5390351713,\n",
       " 90726.1415012181,\n",
       " 25513.0120925605,\n",
       " 84282.0894531906,\n",
       " 72350.1869104803,\n",
       " 71469.8984101415,\n",
       " 95340.2080200613,\n",
       " 39118.1467100978,\n",
       " 91839.9338982999,\n",
       " 49021.9191275537,\n",
       " 35340.4853120446,\n",
       " 35624.7660145164,\n",
       " 71272.5314497948,\n",
       " 39595.5238305032]"
      ]
     },
     "execution_count": 46,
     "metadata": {},
     "output_type": "execute_result"
    }
   ],
   "source": [
    "precio"
   ]
  },
  {
   "cell_type": "code",
   "execution_count": 47,
   "metadata": {},
   "outputs": [
    {
     "data": {
      "text/plain": [
       "418832441275.3312"
      ]
     },
     "execution_count": 47,
     "metadata": {},
     "output_type": "execute_result"
    }
   ],
   "source": [
    "X = np.array(precio)\n",
    "X.T.dot(X)"
   ]
  },
  {
   "cell_type": "code",
   "execution_count": 33,
   "metadata": {},
   "outputs": [
    {
     "data": {
      "text/plain": [
       "array([[74686.56135723],\n",
       "       [89832.30246231],\n",
       "       [75209.38305184],\n",
       "       [29274.88626912],\n",
       "       [35600.72939843],\n",
       "       [56896.06858417],\n",
       "       [36282.81923011],\n",
       "       [67267.93918759],\n",
       "       [49911.04556248],\n",
       "       [31303.84989083],\n",
       "       [27692.4752444 ],\n",
       "       [76229.91291806],\n",
       "       [26207.01387525],\n",
       "       [38791.70738161],\n",
       "       [96760.01278684],\n",
       "       [83608.01039264],\n",
       "       [50925.31612143],\n",
       "       [98101.3317965 ],\n",
       "       [27623.19376692],\n",
       "       [66552.1065332 ],\n",
       "       [57785.18788517],\n",
       "       [44187.70069256],\n",
       "       [28824.11377504],\n",
       "       [65740.71463197],\n",
       "       [83259.307798  ],\n",
       "       [71060.17353013],\n",
       "       [44904.52256054],\n",
       "       [75417.42123663],\n",
       "       [73969.23402324],\n",
       "       [80656.21938556],\n",
       "       [87300.47605932],\n",
       "       [39236.33918166],\n",
       "       [74380.85243106],\n",
       "       [25635.48827544],\n",
       "       [71724.87020493],\n",
       "       [28169.73738372],\n",
       "       [96460.95070988],\n",
       "       [79858.52185637],\n",
       "       [32018.13699678],\n",
       "       [44610.06715894],\n",
       "       [92634.48927552],\n",
       "       [34241.8923229 ],\n",
       "       [42092.80416369],\n",
       "       [52391.1937885 ],\n",
       "       [95715.29190987],\n",
       "       [35817.68464297],\n",
       "       [30633.94166529],\n",
       "       [60647.54359424],\n",
       "       [25769.59149912],\n",
       "       [66021.44146338],\n",
       "       [81437.06504256],\n",
       "       [44981.88121244],\n",
       "       [24292.95070469],\n",
       "       [71092.08937734],\n",
       "       [70406.46385401],\n",
       "       [85855.43178022],\n",
       "       [82130.28024882],\n",
       "       [64066.93993136],\n",
       "       [22551.45810544],\n",
       "       [40100.92725977],\n",
       "       [82845.77788785],\n",
       "       [42148.22253212],\n",
       "       [27997.34901637],\n",
       "       [61425.14314502],\n",
       "       [37418.52296516],\n",
       "       [60851.34064779],\n",
       "       [93986.52171716],\n",
       "       [43233.92722756],\n",
       "       [52573.64111021],\n",
       "       [91390.46981931],\n",
       "       [78383.70628655],\n",
       "       [83544.90946978],\n",
       "       [25788.43457624],\n",
       "       [75273.59407395],\n",
       "       [67672.62771726],\n",
       "       [83015.86292684],\n",
       "       [50037.84380853],\n",
       "       [33739.46230859],\n",
       "       [84394.6168758 ],\n",
       "       [74800.78915134],\n",
       "       [92844.06969324],\n",
       "       [90451.68183744],\n",
       "       [69906.45503625],\n",
       "       [26615.75347185],\n",
       "       [98367.55882949],\n",
       "       [83145.51493153],\n",
       "       [54208.53903517],\n",
       "       [90726.14150122],\n",
       "       [25513.01209256],\n",
       "       [84282.08945319],\n",
       "       [72350.18691048],\n",
       "       [71469.89841014],\n",
       "       [95340.20802006],\n",
       "       [39118.1467101 ],\n",
       "       [91839.9338983 ],\n",
       "       [49021.91912755],\n",
       "       [35340.48531204],\n",
       "       [35624.76601452],\n",
       "       [71272.53144979],\n",
       "       [39595.5238305 ]])"
      ]
     },
     "execution_count": 33,
     "metadata": {},
     "output_type": "execute_result"
    }
   ],
   "source": [
    "n = len(precio)\n",
    "X = np.array(precio).reshape((n,1))\n",
    "X"
   ]
  },
  {
   "cell_type": "code",
   "execution_count": 49,
   "metadata": {},
   "outputs": [
    {
     "data": {
      "text/plain": [
       "array([[4.18832441e+11]])"
      ]
     },
     "execution_count": 49,
     "metadata": {},
     "output_type": "execute_result"
    }
   ],
   "source": [
    "X.T.dot(X)"
   ]
  },
  {
   "cell_type": "code",
   "execution_count": 51,
   "metadata": {},
   "outputs": [
    {
     "data": {
      "text/plain": [
       "matrix([[74686.56135723],\n",
       "        [89832.30246231],\n",
       "        [75209.38305184],\n",
       "        [29274.88626912],\n",
       "        [35600.72939843],\n",
       "        [56896.06858417],\n",
       "        [36282.81923011],\n",
       "        [67267.93918759],\n",
       "        [49911.04556248],\n",
       "        [31303.84989083],\n",
       "        [27692.4752444 ],\n",
       "        [76229.91291806],\n",
       "        [26207.01387525],\n",
       "        [38791.70738161],\n",
       "        [96760.01278684],\n",
       "        [83608.01039264],\n",
       "        [50925.31612143],\n",
       "        [98101.3317965 ],\n",
       "        [27623.19376692],\n",
       "        [66552.1065332 ],\n",
       "        [57785.18788517],\n",
       "        [44187.70069256],\n",
       "        [28824.11377504],\n",
       "        [65740.71463197],\n",
       "        [83259.307798  ],\n",
       "        [71060.17353013],\n",
       "        [44904.52256054],\n",
       "        [75417.42123663],\n",
       "        [73969.23402324],\n",
       "        [80656.21938556],\n",
       "        [87300.47605932],\n",
       "        [39236.33918166],\n",
       "        [74380.85243106],\n",
       "        [25635.48827544],\n",
       "        [71724.87020493],\n",
       "        [28169.73738372],\n",
       "        [96460.95070988],\n",
       "        [79858.52185637],\n",
       "        [32018.13699678],\n",
       "        [44610.06715894],\n",
       "        [92634.48927552],\n",
       "        [34241.8923229 ],\n",
       "        [42092.80416369],\n",
       "        [52391.1937885 ],\n",
       "        [95715.29190987],\n",
       "        [35817.68464297],\n",
       "        [30633.94166529],\n",
       "        [60647.54359424],\n",
       "        [25769.59149912],\n",
       "        [66021.44146338],\n",
       "        [81437.06504256],\n",
       "        [44981.88121244],\n",
       "        [24292.95070469],\n",
       "        [71092.08937734],\n",
       "        [70406.46385401],\n",
       "        [85855.43178022],\n",
       "        [82130.28024882],\n",
       "        [64066.93993136],\n",
       "        [22551.45810544],\n",
       "        [40100.92725977],\n",
       "        [82845.77788785],\n",
       "        [42148.22253212],\n",
       "        [27997.34901637],\n",
       "        [61425.14314502],\n",
       "        [37418.52296516],\n",
       "        [60851.34064779],\n",
       "        [93986.52171716],\n",
       "        [43233.92722756],\n",
       "        [52573.64111021],\n",
       "        [91390.46981931],\n",
       "        [78383.70628655],\n",
       "        [83544.90946978],\n",
       "        [25788.43457624],\n",
       "        [75273.59407395],\n",
       "        [67672.62771726],\n",
       "        [83015.86292684],\n",
       "        [50037.84380853],\n",
       "        [33739.46230859],\n",
       "        [84394.6168758 ],\n",
       "        [74800.78915134],\n",
       "        [92844.06969324],\n",
       "        [90451.68183744],\n",
       "        [69906.45503625],\n",
       "        [26615.75347185],\n",
       "        [98367.55882949],\n",
       "        [83145.51493153],\n",
       "        [54208.53903517],\n",
       "        [90726.14150122],\n",
       "        [25513.01209256],\n",
       "        [84282.08945319],\n",
       "        [72350.18691048],\n",
       "        [71469.89841014],\n",
       "        [95340.20802006],\n",
       "        [39118.1467101 ],\n",
       "        [91839.9338983 ],\n",
       "        [49021.91912755],\n",
       "        [35340.48531204],\n",
       "        [35624.76601452],\n",
       "        [71272.53144979],\n",
       "        [39595.5238305 ]])"
      ]
     },
     "execution_count": 51,
     "metadata": {},
     "output_type": "execute_result"
    }
   ],
   "source": [
    "X = np.matrix(precio).T\n",
    "X"
   ]
  },
  {
   "cell_type": "code",
   "execution_count": 55,
   "metadata": {},
   "outputs": [
    {
     "data": {
      "text/plain": [
       "0.0001321574902209004"
      ]
     },
     "execution_count": 55,
     "metadata": {},
     "output_type": "execute_result"
    }
   ],
   "source": [
    "y = np.matrix(calidad).T\n",
    "sol = solve(X.T.dot(X), X.T.dot(y))\n",
    "coef = sol[0,0]\n",
    "coef"
   ]
  },
  {
   "cell_type": "code",
   "execution_count": 87,
   "metadata": {},
   "outputs": [
    {
     "data": {
      "text/plain": [
       "[<matplotlib.lines.Line2D at 0x7f24991fde10>]"
      ]
     },
     "execution_count": 87,
     "metadata": {},
     "output_type": "execute_result"
    },
    {
     "data": {
      "image/png": "[encoded data removed]",
      "text/plain": [
       "<Figure size 432x288 with 1 Axes>"
      ]
     },
     "metadata": {},
     "output_type": "display_data"
    }
   ],
   "source": [
    "mesh = np.linspace(start=10000, stop=120000, num=10000)\n",
    "calidad_mesh = coef*mesh\n",
    "plt.scatter(precio, calidad)\n",
    "#plt.plot(precio, calidad, \".r\")\n",
    "plt.plot(mesh, calidad_mesh, \"r\") # grafico continuo de curva."
   ]
  },
  {
   "cell_type": "code",
   "execution_count": 63,
   "metadata": {},
   "outputs": [
    {
     "data": {
      "text/plain": [
       "4.351519103269718"
      ]
     },
     "execution_count": 63,
     "metadata": {},
     "output_type": "execute_result"
    }
   ],
   "source": [
    "# Calcular el error cuadrático.\n",
    "calidad_predicha = coef*np.array(precio)\n",
    "errores = (np.array(calidad) - calidad_predicha)**2\n",
    "error2_promedio = errores.mean()\n",
    "error2_promedio"
   ]
  },
  {
   "cell_type": "markdown",
   "metadata": {},
   "source": [
    "# Agregamos el término de Intercept ($\\beta_0$)"
   ]
  },
  {
   "cell_type": "code",
   "execution_count": 36,
   "metadata": {},
   "outputs": [],
   "source": [
    "precio_X = np.matrix(precio).T\n",
    "calidad_Y = np.matrix(calidad).T\n",
    "n = precio_X.shape[0]\n",
    "unos = np.ones((n,1))"
   ]
  },
  {
   "cell_type": "code",
   "execution_count": 37,
   "metadata": {},
   "outputs": [
    {
     "data": {
      "text/plain": [
       "matrix([[1.00000000e+00, 7.46865614e+04],\n",
       "        [1.00000000e+00, 8.98323025e+04],\n",
       "        [1.00000000e+00, 7.52093831e+04],\n",
       "        [1.00000000e+00, 2.92748863e+04],\n",
       "        [1.00000000e+00, 3.56007294e+04],\n",
       "        [1.00000000e+00, 5.68960686e+04],\n",
       "        [1.00000000e+00, 3.62828192e+04],\n",
       "        [1.00000000e+00, 6.72679392e+04],\n",
       "        [1.00000000e+00, 4.99110456e+04],\n",
       "        [1.00000000e+00, 3.13038499e+04],\n",
       "        [1.00000000e+00, 2.76924752e+04],\n",
       "        [1.00000000e+00, 7.62299129e+04],\n",
       "        [1.00000000e+00, 2.62070139e+04],\n",
       "        [1.00000000e+00, 3.87917074e+04],\n",
       "        [1.00000000e+00, 9.67600128e+04],\n",
       "        [1.00000000e+00, 8.36080104e+04],\n",
       "        [1.00000000e+00, 5.09253161e+04],\n",
       "        [1.00000000e+00, 9.81013318e+04],\n",
       "        [1.00000000e+00, 2.76231938e+04],\n",
       "        [1.00000000e+00, 6.65521065e+04],\n",
       "        [1.00000000e+00, 5.77851879e+04],\n",
       "        [1.00000000e+00, 4.41877007e+04],\n",
       "        [1.00000000e+00, 2.88241138e+04],\n",
       "        [1.00000000e+00, 6.57407146e+04],\n",
       "        [1.00000000e+00, 8.32593078e+04],\n",
       "        [1.00000000e+00, 7.10601735e+04],\n",
       "        [1.00000000e+00, 4.49045226e+04],\n",
       "        [1.00000000e+00, 7.54174212e+04],\n",
       "        [1.00000000e+00, 7.39692340e+04],\n",
       "        [1.00000000e+00, 8.06562194e+04],\n",
       "        [1.00000000e+00, 8.73004761e+04],\n",
       "        [1.00000000e+00, 3.92363392e+04],\n",
       "        [1.00000000e+00, 7.43808524e+04],\n",
       "        [1.00000000e+00, 2.56354883e+04],\n",
       "        [1.00000000e+00, 7.17248702e+04],\n",
       "        [1.00000000e+00, 2.81697374e+04],\n",
       "        [1.00000000e+00, 9.64609507e+04],\n",
       "        [1.00000000e+00, 7.98585219e+04],\n",
       "        [1.00000000e+00, 3.20181370e+04],\n",
       "        [1.00000000e+00, 4.46100672e+04],\n",
       "        [1.00000000e+00, 9.26344893e+04],\n",
       "        [1.00000000e+00, 3.42418923e+04],\n",
       "        [1.00000000e+00, 4.20928042e+04],\n",
       "        [1.00000000e+00, 5.23911938e+04],\n",
       "        [1.00000000e+00, 9.57152919e+04],\n",
       "        [1.00000000e+00, 3.58176846e+04],\n",
       "        [1.00000000e+00, 3.06339417e+04],\n",
       "        [1.00000000e+00, 6.06475436e+04],\n",
       "        [1.00000000e+00, 2.57695915e+04],\n",
       "        [1.00000000e+00, 6.60214415e+04],\n",
       "        [1.00000000e+00, 8.14370650e+04],\n",
       "        [1.00000000e+00, 4.49818812e+04],\n",
       "        [1.00000000e+00, 2.42929507e+04],\n",
       "        [1.00000000e+00, 7.10920894e+04],\n",
       "        [1.00000000e+00, 7.04064639e+04],\n",
       "        [1.00000000e+00, 8.58554318e+04],\n",
       "        [1.00000000e+00, 8.21302802e+04],\n",
       "        [1.00000000e+00, 6.40669399e+04],\n",
       "        [1.00000000e+00, 2.25514581e+04],\n",
       "        [1.00000000e+00, 4.01009273e+04],\n",
       "        [1.00000000e+00, 8.28457779e+04],\n",
       "        [1.00000000e+00, 4.21482225e+04],\n",
       "        [1.00000000e+00, 2.79973490e+04],\n",
       "        [1.00000000e+00, 6.14251431e+04],\n",
       "        [1.00000000e+00, 3.74185230e+04],\n",
       "        [1.00000000e+00, 6.08513406e+04],\n",
       "        [1.00000000e+00, 9.39865217e+04],\n",
       "        [1.00000000e+00, 4.32339272e+04],\n",
       "        [1.00000000e+00, 5.25736411e+04],\n",
       "        [1.00000000e+00, 9.13904698e+04],\n",
       "        [1.00000000e+00, 7.83837063e+04],\n",
       "        [1.00000000e+00, 8.35449095e+04],\n",
       "        [1.00000000e+00, 2.57884346e+04],\n",
       "        [1.00000000e+00, 7.52735941e+04],\n",
       "        [1.00000000e+00, 6.76726277e+04],\n",
       "        [1.00000000e+00, 8.30158629e+04],\n",
       "        [1.00000000e+00, 5.00378438e+04],\n",
       "        [1.00000000e+00, 3.37394623e+04],\n",
       "        [1.00000000e+00, 8.43946169e+04],\n",
       "        [1.00000000e+00, 7.48007892e+04],\n",
       "        [1.00000000e+00, 9.28440697e+04],\n",
       "        [1.00000000e+00, 9.04516818e+04],\n",
       "        [1.00000000e+00, 6.99064550e+04],\n",
       "        [1.00000000e+00, 2.66157535e+04],\n",
       "        [1.00000000e+00, 9.83675588e+04],\n",
       "        [1.00000000e+00, 8.31455149e+04],\n",
       "        [1.00000000e+00, 5.42085390e+04],\n",
       "        [1.00000000e+00, 9.07261415e+04],\n",
       "        [1.00000000e+00, 2.55130121e+04],\n",
       "        [1.00000000e+00, 8.42820895e+04],\n",
       "        [1.00000000e+00, 7.23501869e+04],\n",
       "        [1.00000000e+00, 7.14698984e+04],\n",
       "        [1.00000000e+00, 9.53402080e+04],\n",
       "        [1.00000000e+00, 3.91181467e+04],\n",
       "        [1.00000000e+00, 9.18399339e+04],\n",
       "        [1.00000000e+00, 4.90219191e+04],\n",
       "        [1.00000000e+00, 3.53404853e+04],\n",
       "        [1.00000000e+00, 3.56247660e+04],\n",
       "        [1.00000000e+00, 7.12725314e+04],\n",
       "        [1.00000000e+00, 3.95955238e+04]])"
      ]
     },
     "execution_count": 37,
     "metadata": {},
     "output_type": "execute_result"
    }
   ],
   "source": [
    "X = np.concatenate([unos, precio_X], axis=1) # axis=1 ==> concatenar por columna\n",
    "X"
   ]
  },
  {
   "cell_type": "code",
   "execution_count": 38,
   "metadata": {},
   "outputs": [
    {
     "data": {
      "text/plain": [
       "matrix([[2.08609247e+00],\n",
       "        [1.02101780e-04]])"
      ]
     },
     "execution_count": 38,
     "metadata": {},
     "output_type": "execute_result"
    }
   ],
   "source": [
    "coefs = solve(X.T.dot(X), X.T.dot(calidad_Y))\n",
    "coefs"
   ]
  },
  {
   "cell_type": "code",
   "execution_count": 41,
   "metadata": {},
   "outputs": [
    {
     "data": {
      "text/plain": [
       "array([ 10000.        ,  10110.11011011,  10220.22022022,  10330.33033033,\n",
       "        10440.44044044,  10550.55055055,  10660.66066066,  10770.77077077,\n",
       "        10880.88088088,  10990.99099099,  11101.1011011 ,  11211.21121121,\n",
       "        11321.32132132,  11431.43143143,  11541.54154154,  11651.65165165,\n",
       "        11761.76176176,  11871.87187187,  11981.98198198,  12092.09209209,\n",
       "        12202.2022022 ,  12312.31231231,  12422.42242242,  12532.53253253,\n",
       "        12642.64264264,  12752.75275275,  12862.86286286,  12972.97297297,\n",
       "        13083.08308308,  13193.19319319,  13303.3033033 ,  13413.41341341,\n",
       "        13523.52352352,  13633.63363363,  13743.74374374,  13853.85385385,\n",
       "        13963.96396396,  14074.07407407,  14184.18418418,  14294.29429429,\n",
       "        14404.4044044 ,  14514.51451451,  14624.62462462,  14734.73473473,\n",
       "        14844.84484484,  14954.95495495,  15065.06506507,  15175.17517518,\n",
       "        15285.28528529,  15395.3953954 ,  15505.50550551,  15615.61561562,\n",
       "        15725.72572573,  15835.83583584,  15945.94594595,  16056.05605606,\n",
       "        16166.16616617,  16276.27627628,  16386.38638639,  16496.4964965 ,\n",
       "        16606.60660661,  16716.71671672,  16826.82682683,  16936.93693694,\n",
       "        17047.04704705,  17157.15715716,  17267.26726727,  17377.37737738,\n",
       "        17487.48748749,  17597.5975976 ,  17707.70770771,  17817.81781782,\n",
       "        17927.92792793,  18038.03803804,  18148.14814815,  18258.25825826,\n",
       "        18368.36836837,  18478.47847848,  18588.58858859,  18698.6986987 ,\n",
       "        18808.80880881,  18918.91891892,  19029.02902903,  19139.13913914,\n",
       "        19249.24924925,  19359.35935936,  19469.46946947,  19579.57957958,\n",
       "        19689.68968969,  19799.7997998 ,  19909.90990991,  20020.02002002,\n",
       "        20130.13013013,  20240.24024024,  20350.35035035,  20460.46046046,\n",
       "        20570.57057057,  20680.68068068,  20790.79079079,  20900.9009009 ,\n",
       "        21011.01101101,  21121.12112112,  21231.23123123,  21341.34134134,\n",
       "        21451.45145145,  21561.56156156,  21671.67167167,  21781.78178178,\n",
       "        21891.89189189,  22002.002002  ,  22112.11211211,  22222.22222222,\n",
       "        22332.33233233,  22442.44244244,  22552.55255255,  22662.66266266,\n",
       "        22772.77277277,  22882.88288288,  22992.99299299,  23103.1031031 ,\n",
       "        23213.21321321,  23323.32332332,  23433.43343343,  23543.54354354,\n",
       "        23653.65365365,  23763.76376376,  23873.87387387,  23983.98398398,\n",
       "        24094.09409409,  24204.2042042 ,  24314.31431431,  24424.42442442,\n",
       "        24534.53453453,  24644.64464464,  24754.75475475,  24864.86486486,\n",
       "        24974.97497497,  25085.08508509,  25195.1951952 ,  25305.30530531,\n",
       "        25415.41541542,  25525.52552553,  25635.63563564,  25745.74574575,\n",
       "        25855.85585586,  25965.96596597,  26076.07607608,  26186.18618619,\n",
       "        26296.2962963 ,  26406.40640641,  26516.51651652,  26626.62662663,\n",
       "        26736.73673674,  26846.84684685,  26956.95695696,  27067.06706707,\n",
       "        27177.17717718,  27287.28728729,  27397.3973974 ,  27507.50750751,\n",
       "        27617.61761762,  27727.72772773,  27837.83783784,  27947.94794795,\n",
       "        28058.05805806,  28168.16816817,  28278.27827828,  28388.38838839,\n",
       "        28498.4984985 ,  28608.60860861,  28718.71871872,  28828.82882883,\n",
       "        28938.93893894,  29049.04904905,  29159.15915916,  29269.26926927,\n",
       "        29379.37937938,  29489.48948949,  29599.5995996 ,  29709.70970971,\n",
       "        29819.81981982,  29929.92992993,  30040.04004004,  30150.15015015,\n",
       "        30260.26026026,  30370.37037037,  30480.48048048,  30590.59059059,\n",
       "        30700.7007007 ,  30810.81081081,  30920.92092092,  31031.03103103,\n",
       "        31141.14114114,  31251.25125125,  31361.36136136,  31471.47147147,\n",
       "        31581.58158158,  31691.69169169,  31801.8018018 ,  31911.91191191,\n",
       "        32022.02202202,  32132.13213213,  32242.24224224,  32352.35235235,\n",
       "        32462.46246246,  32572.57257257,  32682.68268268,  32792.79279279,\n",
       "        32902.9029029 ,  33013.01301301,  33123.12312312,  33233.23323323,\n",
       "        33343.34334334,  33453.45345345,  33563.56356356,  33673.67367367,\n",
       "        33783.78378378,  33893.89389389,  34004.004004  ,  34114.11411411,\n",
       "        34224.22422422,  34334.33433433,  34444.44444444,  34554.55455455,\n",
       "        34664.66466466,  34774.77477477,  34884.88488488,  34994.99499499,\n",
       "        35105.10510511,  35215.21521522,  35325.32532533,  35435.43543544,\n",
       "        35545.54554555,  35655.65565566,  35765.76576577,  35875.87587588,\n",
       "        35985.98598599,  36096.0960961 ,  36206.20620621,  36316.31631632,\n",
       "        36426.42642643,  36536.53653654,  36646.64664665,  36756.75675676,\n",
       "        36866.86686687,  36976.97697698,  37087.08708709,  37197.1971972 ,\n",
       "        37307.30730731,  37417.41741742,  37527.52752753,  37637.63763764,\n",
       "        37747.74774775,  37857.85785786,  37967.96796797,  38078.07807808,\n",
       "        38188.18818819,  38298.2982983 ,  38408.40840841,  38518.51851852,\n",
       "        38628.62862863,  38738.73873874,  38848.84884885,  38958.95895896,\n",
       "        39069.06906907,  39179.17917918,  39289.28928929,  39399.3993994 ,\n",
       "        39509.50950951,  39619.61961962,  39729.72972973,  39839.83983984,\n",
       "        39949.94994995,  40060.06006006,  40170.17017017,  40280.28028028,\n",
       "        40390.39039039,  40500.5005005 ,  40610.61061061,  40720.72072072,\n",
       "        40830.83083083,  40940.94094094,  41051.05105105,  41161.16116116,\n",
       "        41271.27127127,  41381.38138138,  41491.49149149,  41601.6016016 ,\n",
       "        41711.71171171,  41821.82182182,  41931.93193193,  42042.04204204,\n",
       "        42152.15215215,  42262.26226226,  42372.37237237,  42482.48248248,\n",
       "        42592.59259259,  42702.7027027 ,  42812.81281281,  42922.92292292,\n",
       "        43033.03303303,  43143.14314314,  43253.25325325,  43363.36336336,\n",
       "        43473.47347347,  43583.58358358,  43693.69369369,  43803.8038038 ,\n",
       "        43913.91391391,  44024.02402402,  44134.13413413,  44244.24424424,\n",
       "        44354.35435435,  44464.46446446,  44574.57457457,  44684.68468468,\n",
       "        44794.79479479,  44904.9049049 ,  45015.01501502,  45125.12512513,\n",
       "        45235.23523524,  45345.34534535,  45455.45545546,  45565.56556557,\n",
       "        45675.67567568,  45785.78578579,  45895.8958959 ,  46006.00600601,\n",
       "        46116.11611612,  46226.22622623,  46336.33633634,  46446.44644645,\n",
       "        46556.55655656,  46666.66666667,  46776.77677678,  46886.88688689,\n",
       "        46996.996997  ,  47107.10710711,  47217.21721722,  47327.32732733,\n",
       "        47437.43743744,  47547.54754755,  47657.65765766,  47767.76776777,\n",
       "        47877.87787788,  47987.98798799,  48098.0980981 ,  48208.20820821,\n",
       "        48318.31831832,  48428.42842843,  48538.53853854,  48648.64864865,\n",
       "        48758.75875876,  48868.86886887,  48978.97897898,  49089.08908909,\n",
       "        49199.1991992 ,  49309.30930931,  49419.41941942,  49529.52952953,\n",
       "        49639.63963964,  49749.74974975,  49859.85985986,  49969.96996997,\n",
       "        50080.08008008,  50190.19019019,  50300.3003003 ,  50410.41041041,\n",
       "        50520.52052052,  50630.63063063,  50740.74074074,  50850.85085085,\n",
       "        50960.96096096,  51071.07107107,  51181.18118118,  51291.29129129,\n",
       "        51401.4014014 ,  51511.51151151,  51621.62162162,  51731.73173173,\n",
       "        51841.84184184,  51951.95195195,  52062.06206206,  52172.17217217,\n",
       "        52282.28228228,  52392.39239239,  52502.5025025 ,  52612.61261261,\n",
       "        52722.72272272,  52832.83283283,  52942.94294294,  53053.05305305,\n",
       "        53163.16316316,  53273.27327327,  53383.38338338,  53493.49349349,\n",
       "        53603.6036036 ,  53713.71371371,  53823.82382382,  53933.93393393,\n",
       "        54044.04404404,  54154.15415415,  54264.26426426,  54374.37437437,\n",
       "        54484.48448448,  54594.59459459,  54704.7047047 ,  54814.81481481,\n",
       "        54924.92492492,  55035.03503504,  55145.14514515,  55255.25525526,\n",
       "        55365.36536537,  55475.47547548,  55585.58558559,  55695.6956957 ,\n",
       "        55805.80580581,  55915.91591592,  56026.02602603,  56136.13613614,\n",
       "        56246.24624625,  56356.35635636,  56466.46646647,  56576.57657658,\n",
       "        56686.68668669,  56796.7967968 ,  56906.90690691,  57017.01701702,\n",
       "        57127.12712713,  57237.23723724,  57347.34734735,  57457.45745746,\n",
       "        57567.56756757,  57677.67767768,  57787.78778779,  57897.8978979 ,\n",
       "        58008.00800801,  58118.11811812,  58228.22822823,  58338.33833834,\n",
       "        58448.44844845,  58558.55855856,  58668.66866867,  58778.77877878,\n",
       "        58888.88888889,  58998.998999  ,  59109.10910911,  59219.21921922,\n",
       "        59329.32932933,  59439.43943944,  59549.54954955,  59659.65965966,\n",
       "        59769.76976977,  59879.87987988,  59989.98998999,  60100.1001001 ,\n",
       "        60210.21021021,  60320.32032032,  60430.43043043,  60540.54054054,\n",
       "        60650.65065065,  60760.76076076,  60870.87087087,  60980.98098098,\n",
       "        61091.09109109,  61201.2012012 ,  61311.31131131,  61421.42142142,\n",
       "        61531.53153153,  61641.64164164,  61751.75175175,  61861.86186186,\n",
       "        61971.97197197,  62082.08208208,  62192.19219219,  62302.3023023 ,\n",
       "        62412.41241241,  62522.52252252,  62632.63263263,  62742.74274274,\n",
       "        62852.85285285,  62962.96296296,  63073.07307307,  63183.18318318,\n",
       "        63293.29329329,  63403.4034034 ,  63513.51351351,  63623.62362362,\n",
       "        63733.73373373,  63843.84384384,  63953.95395395,  64064.06406406,\n",
       "        64174.17417417,  64284.28428428,  64394.39439439,  64504.5045045 ,\n",
       "        64614.61461461,  64724.72472472,  64834.83483483,  64944.94494494,\n",
       "        65055.05505506,  65165.16516517,  65275.27527528,  65385.38538539,\n",
       "        65495.4954955 ,  65605.60560561,  65715.71571572,  65825.82582583,\n",
       "        65935.93593594,  66046.04604605,  66156.15615616,  66266.26626627,\n",
       "        66376.37637638,  66486.48648649,  66596.5965966 ,  66706.70670671,\n",
       "        66816.81681682,  66926.92692693,  67037.03703704,  67147.14714715,\n",
       "        67257.25725726,  67367.36736737,  67477.47747748,  67587.58758759,\n",
       "        67697.6976977 ,  67807.80780781,  67917.91791792,  68028.02802803,\n",
       "        68138.13813814,  68248.24824825,  68358.35835836,  68468.46846847,\n",
       "        68578.57857858,  68688.68868869,  68798.7987988 ,  68908.90890891,\n",
       "        69019.01901902,  69129.12912913,  69239.23923924,  69349.34934935,\n",
       "        69459.45945946,  69569.56956957,  69679.67967968,  69789.78978979,\n",
       "        69899.8998999 ,  70010.01001001,  70120.12012012,  70230.23023023,\n",
       "        70340.34034034,  70450.45045045,  70560.56056056,  70670.67067067,\n",
       "        70780.78078078,  70890.89089089,  71001.001001  ,  71111.11111111,\n",
       "        71221.22122122,  71331.33133133,  71441.44144144,  71551.55155155,\n",
       "        71661.66166166,  71771.77177177,  71881.88188188,  71991.99199199,\n",
       "        72102.1021021 ,  72212.21221221,  72322.32232232,  72432.43243243,\n",
       "        72542.54254254,  72652.65265265,  72762.76276276,  72872.87287287,\n",
       "        72982.98298298,  73093.09309309,  73203.2032032 ,  73313.31331331,\n",
       "        73423.42342342,  73533.53353353,  73643.64364364,  73753.75375375,\n",
       "        73863.86386386,  73973.97397397,  74084.08408408,  74194.19419419,\n",
       "        74304.3043043 ,  74414.41441441,  74524.52452452,  74634.63463463,\n",
       "        74744.74474474,  74854.85485485,  74964.96496496,  75075.07507508,\n",
       "        75185.18518519,  75295.2952953 ,  75405.40540541,  75515.51551552,\n",
       "        75625.62562563,  75735.73573574,  75845.84584585,  75955.95595596,\n",
       "        76066.06606607,  76176.17617618,  76286.28628629,  76396.3963964 ,\n",
       "        76506.50650651,  76616.61661662,  76726.72672673,  76836.83683684,\n",
       "        76946.94694695,  77057.05705706,  77167.16716717,  77277.27727728,\n",
       "        77387.38738739,  77497.4974975 ,  77607.60760761,  77717.71771772,\n",
       "        77827.82782783,  77937.93793794,  78048.04804805,  78158.15815816,\n",
       "        78268.26826827,  78378.37837838,  78488.48848849,  78598.5985986 ,\n",
       "        78708.70870871,  78818.81881882,  78928.92892893,  79039.03903904,\n",
       "        79149.14914915,  79259.25925926,  79369.36936937,  79479.47947948,\n",
       "        79589.58958959,  79699.6996997 ,  79809.80980981,  79919.91991992,\n",
       "        80030.03003003,  80140.14014014,  80250.25025025,  80360.36036036,\n",
       "        80470.47047047,  80580.58058058,  80690.69069069,  80800.8008008 ,\n",
       "        80910.91091091,  81021.02102102,  81131.13113113,  81241.24124124,\n",
       "        81351.35135135,  81461.46146146,  81571.57157157,  81681.68168168,\n",
       "        81791.79179179,  81901.9019019 ,  82012.01201201,  82122.12212212,\n",
       "        82232.23223223,  82342.34234234,  82452.45245245,  82562.56256256,\n",
       "        82672.67267267,  82782.78278278,  82892.89289289,  83003.003003  ,\n",
       "        83113.11311311,  83223.22322322,  83333.33333333,  83443.44344344,\n",
       "        83553.55355355,  83663.66366366,  83773.77377377,  83883.88388388,\n",
       "        83993.99399399,  84104.1041041 ,  84214.21421421,  84324.32432432,\n",
       "        84434.43443443,  84544.54454454,  84654.65465465,  84764.76476476,\n",
       "        84874.87487487,  84984.98498498,  85095.0950951 ,  85205.20520521,\n",
       "        85315.31531532,  85425.42542543,  85535.53553554,  85645.64564565,\n",
       "        85755.75575576,  85865.86586587,  85975.97597598,  86086.08608609,\n",
       "        86196.1961962 ,  86306.30630631,  86416.41641642,  86526.52652653,\n",
       "        86636.63663664,  86746.74674675,  86856.85685686,  86966.96696697,\n",
       "        87077.07707708,  87187.18718719,  87297.2972973 ,  87407.40740741,\n",
       "        87517.51751752,  87627.62762763,  87737.73773774,  87847.84784785,\n",
       "        87957.95795796,  88068.06806807,  88178.17817818,  88288.28828829,\n",
       "        88398.3983984 ,  88508.50850851,  88618.61861862,  88728.72872873,\n",
       "        88838.83883884,  88948.94894895,  89059.05905906,  89169.16916917,\n",
       "        89279.27927928,  89389.38938939,  89499.4994995 ,  89609.60960961,\n",
       "        89719.71971972,  89829.82982983,  89939.93993994,  90050.05005005,\n",
       "        90160.16016016,  90270.27027027,  90380.38038038,  90490.49049049,\n",
       "        90600.6006006 ,  90710.71071071,  90820.82082082,  90930.93093093,\n",
       "        91041.04104104,  91151.15115115,  91261.26126126,  91371.37137137,\n",
       "        91481.48148148,  91591.59159159,  91701.7017017 ,  91811.81181181,\n",
       "        91921.92192192,  92032.03203203,  92142.14214214,  92252.25225225,\n",
       "        92362.36236236,  92472.47247247,  92582.58258258,  92692.69269269,\n",
       "        92802.8028028 ,  92912.91291291,  93023.02302302,  93133.13313313,\n",
       "        93243.24324324,  93353.35335335,  93463.46346346,  93573.57357357,\n",
       "        93683.68368368,  93793.79379379,  93903.9039039 ,  94014.01401401,\n",
       "        94124.12412412,  94234.23423423,  94344.34434434,  94454.45445445,\n",
       "        94564.56456456,  94674.67467467,  94784.78478478,  94894.89489489,\n",
       "        95005.00500501,  95115.11511512,  95225.22522523,  95335.33533534,\n",
       "        95445.44544545,  95555.55555556,  95665.66566567,  95775.77577578,\n",
       "        95885.88588589,  95995.995996  ,  96106.10610611,  96216.21621622,\n",
       "        96326.32632633,  96436.43643644,  96546.54654655,  96656.65665666,\n",
       "        96766.76676677,  96876.87687688,  96986.98698699,  97097.0970971 ,\n",
       "        97207.20720721,  97317.31731732,  97427.42742743,  97537.53753754,\n",
       "        97647.64764765,  97757.75775776,  97867.86786787,  97977.97797798,\n",
       "        98088.08808809,  98198.1981982 ,  98308.30830831,  98418.41841842,\n",
       "        98528.52852853,  98638.63863864,  98748.74874875,  98858.85885886,\n",
       "        98968.96896897,  99079.07907908,  99189.18918919,  99299.2992993 ,\n",
       "        99409.40940941,  99519.51951952,  99629.62962963,  99739.73973974,\n",
       "        99849.84984985,  99959.95995996, 100070.07007007, 100180.18018018,\n",
       "       100290.29029029, 100400.4004004 , 100510.51051051, 100620.62062062,\n",
       "       100730.73073073, 100840.84084084, 100950.95095095, 101061.06106106,\n",
       "       101171.17117117, 101281.28128128, 101391.39139139, 101501.5015015 ,\n",
       "       101611.61161161, 101721.72172172, 101831.83183183, 101941.94194194,\n",
       "       102052.05205205, 102162.16216216, 102272.27227227, 102382.38238238,\n",
       "       102492.49249249, 102602.6026026 , 102712.71271271, 102822.82282282,\n",
       "       102932.93293293, 103043.04304304, 103153.15315315, 103263.26326326,\n",
       "       103373.37337337, 103483.48348348, 103593.59359359, 103703.7037037 ,\n",
       "       103813.81381381, 103923.92392392, 104034.03403403, 104144.14414414,\n",
       "       104254.25425425, 104364.36436436, 104474.47447447, 104584.58458458,\n",
       "       104694.69469469, 104804.8048048 , 104914.91491491, 105025.02502503,\n",
       "       105135.13513514, 105245.24524525, 105355.35535536, 105465.46546547,\n",
       "       105575.57557558, 105685.68568569, 105795.7957958 , 105905.90590591,\n",
       "       106016.01601602, 106126.12612613, 106236.23623624, 106346.34634635,\n",
       "       106456.45645646, 106566.56656657, 106676.67667668, 106786.78678679,\n",
       "       106896.8968969 , 107007.00700701, 107117.11711712, 107227.22722723,\n",
       "       107337.33733734, 107447.44744745, 107557.55755756, 107667.66766767,\n",
       "       107777.77777778, 107887.88788789, 107997.997998  , 108108.10810811,\n",
       "       108218.21821822, 108328.32832833, 108438.43843844, 108548.54854855,\n",
       "       108658.65865866, 108768.76876877, 108878.87887888, 108988.98898899,\n",
       "       109099.0990991 , 109209.20920921, 109319.31931932, 109429.42942943,\n",
       "       109539.53953954, 109649.64964965, 109759.75975976, 109869.86986987,\n",
       "       109979.97997998, 110090.09009009, 110200.2002002 , 110310.31031031,\n",
       "       110420.42042042, 110530.53053053, 110640.64064064, 110750.75075075,\n",
       "       110860.86086086, 110970.97097097, 111081.08108108, 111191.19119119,\n",
       "       111301.3013013 , 111411.41141141, 111521.52152152, 111631.63163163,\n",
       "       111741.74174174, 111851.85185185, 111961.96196196, 112072.07207207,\n",
       "       112182.18218218, 112292.29229229, 112402.4024024 , 112512.51251251,\n",
       "       112622.62262262, 112732.73273273, 112842.84284284, 112952.95295295,\n",
       "       113063.06306306, 113173.17317317, 113283.28328328, 113393.39339339,\n",
       "       113503.5035035 , 113613.61361361, 113723.72372372, 113833.83383383,\n",
       "       113943.94394394, 114054.05405405, 114164.16416416, 114274.27427427,\n",
       "       114384.38438438, 114494.49449449, 114604.6046046 , 114714.71471471,\n",
       "       114824.82482482, 114934.93493493, 115045.04504505, 115155.15515516,\n",
       "       115265.26526527, 115375.37537538, 115485.48548549, 115595.5955956 ,\n",
       "       115705.70570571, 115815.81581582, 115925.92592593, 116036.03603604,\n",
       "       116146.14614615, 116256.25625626, 116366.36636637, 116476.47647648,\n",
       "       116586.58658659, 116696.6966967 , 116806.80680681, 116916.91691692,\n",
       "       117027.02702703, 117137.13713714, 117247.24724725, 117357.35735736,\n",
       "       117467.46746747, 117577.57757758, 117687.68768769, 117797.7977978 ,\n",
       "       117907.90790791, 118018.01801802, 118128.12812813, 118238.23823824,\n",
       "       118348.34834835, 118458.45845846, 118568.56856857, 118678.67867868,\n",
       "       118788.78878879, 118898.8988989 , 119009.00900901, 119119.11911912,\n",
       "       119229.22922923, 119339.33933934, 119449.44944945, 119559.55955956,\n",
       "       119669.66966967, 119779.77977978, 119889.88988989, 120000.        ])"
      ]
     },
     "execution_count": 41,
     "metadata": {},
     "output_type": "execute_result"
    },
    {
     "data": {
      "image/png": "[encoded data removed]",
      "text/plain": [
       "<Figure size 432x288 with 1 Axes>"
      ]
     },
     "metadata": {},
     "output_type": "display_data"
    }
   ],
   "source": [
    "mesh = np.linspace(start=10000, stop=120000, num=1000)\n",
    "calidad_mesh2 = coefs[0,0] + coefs[1,0]*mesh\n",
    "plt.scatter(precio, calidad)\n",
    "plt.plot(mesh, calidad_mesh2, \"r\")\n",
    "#lt.plot(mesh, calidad_mesh, \"g\")"
   ]
  },
  {
   "cell_type": "code",
   "execution_count": 42,
   "metadata": {},
   "outputs": [
    {
     "data": {
      "text/plain": [
       "3.783242222312755"
      ]
     },
     "execution_count": 42,
     "metadata": {},
     "output_type": "execute_result"
    }
   ],
   "source": [
    "calidad_predicha2 = coefs[0,0] + coefs[1,0]*precio_X\n",
    "calidad_predicha2.shape\n",
    "calidad_Y.shape\n",
    "errores_modelo2 = (np.array(calidad_Y) - np.array(calidad_predicha2))**2\n",
    "errores_modelo2.mean()"
   ]
  },
  {
   "cell_type": "markdown",
   "metadata": {},
   "source": [
    "# Modelo genérico de grado arbitrario"
   ]
  },
  {
   "cell_type": "markdown",
   "metadata": {},
   "source": [
    "Definir una función que reciba un vector \"x\" (covariable, por ejemplo el precio) y un grado \"d\" (natural) y que devuelva una matriz de diseño que permita efectuar un ajuste con un polinomio en x de grado d.\n",
    "\n",
    "def armar_X(x,d):\n",
    ".....................\n"
   ]
  },
  {
   "cell_type": "code",
   "execution_count": 44,
   "metadata": {},
   "outputs": [
    {
     "name": "stdout",
     "output_type": "stream",
     "text": [
      "[[  1.   2.   4.   8.]\n",
      " [  1.   5.  25. 125.]\n",
      " [  1.   7.  49. 343.]]\n",
      "[[  1.   2.   4.   8.]\n",
      " [  1.   5.  25. 125.]\n",
      " [  1.   7.  49. 343.]]\n"
     ]
    }
   ],
   "source": [
    "def armar_X(x,d):\n",
    "    n = len(x)\n",
    "    X = np.ones((n,d+1))\n",
    "    for j in range(1,d+1):\n",
    "        X[:,j] = x**j\n",
    "    return X\n",
    "\n",
    "def armar_X2(x,d):\n",
    "    n = len(x)\n",
    "    X = np.ones((n,d+1))\n",
    "    for i in range(n):\n",
    "        for j in range(1,d+1):\n",
    "            X[i,j] = x[i]**j\n",
    "    return X\n",
    "\n",
    "\n",
    "x = np.array([2,5,7])\n",
    "X1 = armar_X(x,3)\n",
    "print(X)\n",
    "X2 = armar_X2([2,5,7],3)\n",
    "print(X2)"
   ]
  },
  {
   "cell_type": "markdown",
   "metadata": {},
   "source": [
    "Ejercicio 2:\n",
    "Definir una función que dado un vector x covariable, un grado d y un vector respuesta y, devuelva los coeficientes del ajuste de cuadrados mínimos.\n",
    "\n",
    "def solve_LS(x,y,d):\n",
    "    BLAH"
   ]
  },
  {
   "cell_type": "markdown",
   "metadata": {},
   "source": [
    "Ejercicio 3: Definir una función que dado un vector x covariable, un vector y de respuesta, un grado d y un vector x2, devuelva la predicción del ajuste de cuadrados mínimos de y~x como polinomio de grado d evaluado en el vector x2."
   ]
  },
  {
   "cell_type": "code",
   "execution_count": 46,
   "metadata": {},
   "outputs": [],
   "source": [
    "def solve_LS(x,y,d):\n",
    "    X = armar_X(x,d)\n",
    "    return solve(X.T.dot(X), X.T.dot(y))"
   ]
  },
  {
   "cell_type": "code",
   "execution_count": 50,
   "metadata": {},
   "outputs": [
    {
     "data": {
      "text/plain": [
       "<matplotlib.collections.PathCollection at 0x7fa34d894e80>"
      ]
     },
     "execution_count": 50,
     "metadata": {},
     "output_type": "execute_result"
    },
    {
     "data": {
      "image/png": "[encoded data removed]",
      "text/plain": [
       "<Figure size 432x288 with 1 Axes>"
      ]
     },
     "metadata": {},
     "output_type": "display_data"
    }
   ],
   "source": [
    "x = np.random.uniform(low=0, high=10.0, size=100)\n",
    "y = 2.0 + 0.5*x + np.random.normal(loc=0.0, scale=0.75, size=100)\n",
    "plt.scatter(x,y)"
   ]
  },
  {
   "cell_type": "code",
   "execution_count": 51,
   "metadata": {},
   "outputs": [
    {
     "data": {
      "text/plain": [
       "array([2.09894431, 0.4746807 ])"
      ]
     },
     "execution_count": 51,
     "metadata": {},
     "output_type": "execute_result"
    }
   ],
   "source": [
    "coefs = solve_LS(x=x, y=y, d=1)\n",
    "coefs"
   ]
  },
  {
   "cell_type": "code",
   "execution_count": 54,
   "metadata": {},
   "outputs": [
    {
     "data": {
      "text/plain": [
       "array([ 1.95986234,  0.56116719, -0.00871641])"
      ]
     },
     "execution_count": 54,
     "metadata": {},
     "output_type": "execute_result"
    }
   ],
   "source": [
    "coefs2 = solve_LS(x,y,2)\n",
    "coefs2"
   ]
  },
  {
   "cell_type": "code",
   "execution_count": 55,
   "metadata": {},
   "outputs": [],
   "source": [
    "def predecir(x,y,d,x2):\n",
    "    coefs = solve_LS(x,y,d)\n",
    "    acum = np.zeros(len(x2))\n",
    "    for j in range(len(coefs)):\n",
    "        acum = acum + coefs[j]*(x2**j)\n",
    "    return acum\n",
    "\n"
   ]
  },
  {
   "cell_type": "code",
   "execution_count": 60,
   "metadata": {},
   "outputs": [
    {
     "data": {
      "text/plain": [
       "[<matplotlib.lines.Line2D at 0x7fa34d7f8160>]"
      ]
     },
     "execution_count": 60,
     "metadata": {},
     "output_type": "execute_result"
    },
    {
     "data": {
      "image/png": "[encoded data removed]",
      "text/plain": [
       "<Figure size 432x288 with 1 Axes>"
      ]
     },
     "metadata": {},
     "output_type": "display_data"
    }
   ],
   "source": [
    "x2 = np.linspace(start=-2.0, stop=12.0, num=1000)\n",
    "y_pred = predecir(x,y,4,x2)\n",
    "plt.scatter(x,y)\n",
    "plt.plot(x2, y_pred, \"r\")"
   ]
  },
  {
   "cell_type": "markdown",
   "metadata": {},
   "source": [
    "$(x_1, y_1), \\ldots, (x_n,y_n)$\n",
    "Con el ajuste, podemos predecir los valores en los mismos $x_i$, obteniendo $\\widehat{y}_i$.\n",
    "\n",
    "$MSE = \\frac{1}{n}\\sum_{i=1}^n (y_i - \\widehat{y}_i)^2$.\n",
    "\n",
    "Definir una función para calcular MSE.\n",
    "\n",
    "Ensaye con el modelo aleatorio anterior, 11 modelos polinomiales distintos (es decir, cambiando el grado de 0 a 10) y grafice el MSE en función del grado.\n",
    "\n",
    "Determine, \"a ojo\", a su juicio, el mejor modelo.\n",
    "\n",
    "a) Con el modelo de datos aleatorios.\n",
    "\n",
    "b) Con el modelo de Precio, Calidad.\n"
   ]
  },
  {
   "cell_type": "code",
   "execution_count": 61,
   "metadata": {},
   "outputs": [
    {
     "data": {
      "text/plain": [
       "<matplotlib.collections.PathCollection at 0x7fa34de4fac8>"
      ]
     },
     "execution_count": 61,
     "metadata": {},
     "output_type": "execute_result"
    },
    {
     "data": {
      "image/png": "[encoded data removed]",
      "text/plain": [
       "<Figure size 432x288 with 1 Axes>"
      ]
     },
     "metadata": {},
     "output_type": "display_data"
    }
   ],
   "source": [
    "x = np.random.uniform(low=0, high=10.0, size=100)\n",
    "y = 2.0 + 0.5*x + np.random.normal(loc=0.0, scale=0.75, size=100)\n",
    "x[50] = 30.0\n",
    "y[50] = -15.0\n",
    "plt.scatter(x,y)"
   ]
  },
  {
   "cell_type": "code",
   "execution_count": 62,
   "metadata": {},
   "outputs": [
    {
     "data": {
      "text/plain": [
       "[<matplotlib.lines.Line2D at 0x7fa34d747438>]"
      ]
     },
     "execution_count": 62,
     "metadata": {},
     "output_type": "execute_result"
    },
    {
     "data": {
      "image/png": "[encoded data removed]",
      "text/plain": [
       "<Figure size 432x288 with 1 Axes>"
      ]
     },
     "metadata": {},
     "output_type": "display_data"
    }
   ],
   "source": [
    "x2 = np.linspace(start=-2.0, stop=30.0, num=1000)\n",
    "y_pred = predecir(x,y,1,x2)\n",
    "plt.scatter(x,y)\n",
    "plt.plot(x2, y_pred, \"r\")"
   ]
  },
  {
   "cell_type": "code",
   "execution_count": null,
   "metadata": {},
   "outputs": [],
   "source": []
  }
 ],
 "metadata": {
  "kernelspec": {
   "display_name": "Python 3",
   "language": "python",
   "name": "python3"
  },
  "language_info": {
   "codemirror_mode": {
    "name": "ipython",
    "version": 3
   },
   "file_extension": ".py",
   "mimetype": "text/x-python",
   "name": "python",
   "nbconvert_exporter": "python",
   "pygments_lexer": "ipython3",
   "version": "3.6.5"
  }
 },
 "nbformat": 4,
 "nbformat_minor": 2
}
