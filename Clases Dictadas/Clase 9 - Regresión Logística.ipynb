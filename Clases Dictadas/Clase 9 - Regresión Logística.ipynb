{
 "cells": [
  {
   "cell_type": "code",
   "execution_count": 1,
   "metadata": {},
   "outputs": [
    {
     "name": "stderr",
     "output_type": "stream",
     "text": [
      "/home/lbali/anaconda3/lib/python3.6/importlib/_bootstrap.py:219: RuntimeWarning: numpy.dtype size changed, may indicate binary incompatibility. Expected 96, got 88\n",
      "  return f(*args, **kwds)\n",
      "/home/lbali/anaconda3/lib/python3.6/importlib/_bootstrap.py:219: RuntimeWarning: numpy.dtype size changed, may indicate binary incompatibility. Expected 96, got 88\n",
      "  return f(*args, **kwds)\n"
     ]
    }
   ],
   "source": [
    "import numpy as np\n",
    "import pandas as pd\n",
    "from pandas import Series, DataFrame\n",
    "from sklearn.linear_model import LogisticRegression\n",
    "import matplotlib.pyplot as plt\n",
    "from sklearn.neighbors import KNeighborsClassifier\n",
    "from sklearn.metrics import confusion_matrix, classification_report\n",
    "% matplotlib inline"
   ]
  },
  {
   "cell_type": "code",
   "execution_count": 10,
   "metadata": {},
   "outputs": [
    {
     "data": {
      "text/plain": [
       "<matplotlib.collections.PathCollection at 0x7fa18928c6d8>"
      ]
     },
     "execution_count": 10,
     "metadata": {},
     "output_type": "execute_result"
    },
    {
     "data": {
      "image/png": "[encoded data removed]",
      "text/plain": [
       "<Figure size 432x288 with 1 Axes>"
      ]
     },
     "metadata": {},
     "output_type": "display_data"
    }
   ],
   "source": [
    "a1 = np.random.uniform(low=0, high=5.5, size=100).reshape(100,1)\n",
    "a2 = np.random.uniform(low=0, high = 10.0, size=100).reshape(100,1)\n",
    "y_a = np.zeros((100,1))\n",
    "b1 = np.random.uniform(low=4.5, high=10.0, size=100).reshape(100,1)\n",
    "b2 = np.random.uniform(low=0, high = 10.0, size=100).reshape(100,1)\n",
    "y_b = np.ones((100,1))\n",
    "X_a = np.concatenate([a1,a2], axis=1)\n",
    "X_b = np.concatenate([b1,b2], axis=1)\n",
    "plt.scatter(a1,a2)\n",
    "plt.scatter(b1,b2)"
   ]
  },
  {
   "cell_type": "code",
   "execution_count": 14,
   "metadata": {},
   "outputs": [
    {
     "data": {
      "text/plain": [
       "LogisticRegression(C=1.0, class_weight=None, dual=False, fit_intercept=True,\n",
       "          intercept_scaling=1, max_iter=100, multi_class='ovr', n_jobs=1,\n",
       "          penalty='l2', random_state=None, solver='liblinear', tol=0.0001,\n",
       "          verbose=0, warm_start=False)"
      ]
     },
     "execution_count": 14,
     "metadata": {},
     "output_type": "execute_result"
    }
   ],
   "source": [
    "\n",
    "clasificador = LogisticRegression()\n",
    "X = np.concatenate([X_a,X_b], axis=0)\n",
    "y = np.concatenate([y_a, y_b], axis=0).reshape(200)\n",
    "clasificador.fit(X,y)"
   ]
  },
  {
   "cell_type": "code",
   "execution_count": 15,
   "metadata": {},
   "outputs": [],
   "source": [
    "y_pred = clasificador.predict(X)"
   ]
  },
  {
   "cell_type": "code",
   "execution_count": 18,
   "metadata": {},
   "outputs": [
    {
     "data": {
      "text/plain": [
       "array([[87, 13],\n",
       "       [ 6, 94]])"
      ]
     },
     "execution_count": 18,
     "metadata": {},
     "output_type": "execute_result"
    }
   ],
   "source": [
    "confusion_matrix(y, y_pred)"
   ]
  },
  {
   "cell_type": "code",
   "execution_count": 19,
   "metadata": {},
   "outputs": [
    {
     "data": {
      "text/plain": [
       "array([[0.92570042, 0.07429958],\n",
       "       [0.96170359, 0.03829641],\n",
       "       [0.99008367, 0.00991633],\n",
       "       [0.99744363, 0.00255637],\n",
       "       [0.8974594 , 0.1025406 ],\n",
       "       [0.99063631, 0.00936369],\n",
       "       [0.40033812, 0.59966188],\n",
       "       [0.36329646, 0.63670354],\n",
       "       [0.76861497, 0.23138503],\n",
       "       [0.61977945, 0.38022055],\n",
       "       [0.89999462, 0.10000538],\n",
       "       [0.93294487, 0.06705513],\n",
       "       [0.97940774, 0.02059226],\n",
       "       [0.93586657, 0.06413343],\n",
       "       [0.98452535, 0.01547465],\n",
       "       [0.51936824, 0.48063176],\n",
       "       [0.98260359, 0.01739641],\n",
       "       [0.88969268, 0.11030732],\n",
       "       [0.6203289 , 0.3796711 ],\n",
       "       [0.55781928, 0.44218072],\n",
       "       [0.60394927, 0.39605073],\n",
       "       [0.77116477, 0.22883523],\n",
       "       [0.99270159, 0.00729841],\n",
       "       [0.61472063, 0.38527937],\n",
       "       [0.99498465, 0.00501535],\n",
       "       [0.8395408 , 0.1604592 ],\n",
       "       [0.98406545, 0.01593455],\n",
       "       [0.33342071, 0.66657929],\n",
       "       [0.5491076 , 0.4508924 ],\n",
       "       [0.82152307, 0.17847693],\n",
       "       [0.76033374, 0.23966626],\n",
       "       [0.49805796, 0.50194204],\n",
       "       [0.89616151, 0.10383849],\n",
       "       [0.62467157, 0.37532843],\n",
       "       [0.98526647, 0.01473353],\n",
       "       [0.94041655, 0.05958345],\n",
       "       [0.83598786, 0.16401214],\n",
       "       [0.95595614, 0.04404386],\n",
       "       [0.51990499, 0.48009501],\n",
       "       [0.88159473, 0.11840527],\n",
       "       [0.87779625, 0.12220375],\n",
       "       [0.97479125, 0.02520875],\n",
       "       [0.96919265, 0.03080735],\n",
       "       [0.99508218, 0.00491782],\n",
       "       [0.68220665, 0.31779335],\n",
       "       [0.8216146 , 0.1783854 ],\n",
       "       [0.93286002, 0.06713998],\n",
       "       [0.98769278, 0.01230722],\n",
       "       [0.98066357, 0.01933643],\n",
       "       [0.99093543, 0.00906457],\n",
       "       [0.98674039, 0.01325961],\n",
       "       [0.93147838, 0.06852162],\n",
       "       [0.46961157, 0.53038843],\n",
       "       [0.39709038, 0.60290962],\n",
       "       [0.99308238, 0.00691762],\n",
       "       [0.69277772, 0.30722228],\n",
       "       [0.98932729, 0.01067271],\n",
       "       [0.91119129, 0.08880871],\n",
       "       [0.79605327, 0.20394673],\n",
       "       [0.78305521, 0.21694479],\n",
       "       [0.96242661, 0.03757339],\n",
       "       [0.98519872, 0.01480128],\n",
       "       [0.99275889, 0.00724111],\n",
       "       [0.77662412, 0.22337588],\n",
       "       [0.95773355, 0.04226645],\n",
       "       [0.98091916, 0.01908084],\n",
       "       [0.47155022, 0.52844978],\n",
       "       [0.98657798, 0.01342202],\n",
       "       [0.99455063, 0.00544937],\n",
       "       [0.96735813, 0.03264187],\n",
       "       [0.98131989, 0.01868011],\n",
       "       [0.97482395, 0.02517605],\n",
       "       [0.79698683, 0.20301317],\n",
       "       [0.87107712, 0.12892288],\n",
       "       [0.45609971, 0.54390029],\n",
       "       [0.16746849, 0.83253151],\n",
       "       [0.91401919, 0.08598081],\n",
       "       [0.57306855, 0.42693145],\n",
       "       [0.48726275, 0.51273725],\n",
       "       [0.98618442, 0.01381558],\n",
       "       [0.80636451, 0.19363549],\n",
       "       [0.93854485, 0.06145515],\n",
       "       [0.9685297 , 0.0314703 ],\n",
       "       [0.96423002, 0.03576998],\n",
       "       [0.48646297, 0.51353703],\n",
       "       [0.96477005, 0.03522995],\n",
       "       [0.64722734, 0.35277266],\n",
       "       [0.96554328, 0.03445672],\n",
       "       [0.63462429, 0.36537571],\n",
       "       [0.98393394, 0.01606606],\n",
       "       [0.95369763, 0.04630237],\n",
       "       [0.52908164, 0.47091836],\n",
       "       [0.57660335, 0.42339665],\n",
       "       [0.9912874 , 0.0087126 ],\n",
       "       [0.88755629, 0.11244371],\n",
       "       [0.84620296, 0.15379704],\n",
       "       [0.97235393, 0.02764607],\n",
       "       [0.30394818, 0.69605182],\n",
       "       [0.32085536, 0.67914464],\n",
       "       [0.98520812, 0.01479188],\n",
       "       [0.00550655, 0.99449345],\n",
       "       [0.00263949, 0.99736051],\n",
       "       [0.0028153 , 0.9971847 ],\n",
       "       [0.18426704, 0.81573296],\n",
       "       [0.02616328, 0.97383672],\n",
       "       [0.00702438, 0.99297562],\n",
       "       [0.0029045 , 0.9970955 ],\n",
       "       [0.05784248, 0.94215752],\n",
       "       [0.20796819, 0.79203181],\n",
       "       [0.00233939, 0.99766061],\n",
       "       [0.07366593, 0.92633407],\n",
       "       [0.05869182, 0.94130818],\n",
       "       [0.11777884, 0.88222116],\n",
       "       [0.01953197, 0.98046803],\n",
       "       [0.00966684, 0.99033316],\n",
       "       [0.46394741, 0.53605259],\n",
       "       [0.37124465, 0.62875535],\n",
       "       [0.01742708, 0.98257292],\n",
       "       [0.10294371, 0.89705629],\n",
       "       [0.02803471, 0.97196529],\n",
       "       [0.21687223, 0.78312777],\n",
       "       [0.07565828, 0.92434172],\n",
       "       [0.18270619, 0.81729381],\n",
       "       [0.30618777, 0.69381223],\n",
       "       [0.01692394, 0.98307606],\n",
       "       [0.1074328 , 0.8925672 ],\n",
       "       [0.62520343, 0.37479657],\n",
       "       [0.48870592, 0.51129408],\n",
       "       [0.34929805, 0.65070195],\n",
       "       [0.58880604, 0.41119396],\n",
       "       [0.03824653, 0.96175347],\n",
       "       [0.00233708, 0.99766292],\n",
       "       [0.02623213, 0.97376787],\n",
       "       [0.01096375, 0.98903625],\n",
       "       [0.0215753 , 0.9784247 ],\n",
       "       [0.38406711, 0.61593289],\n",
       "       [0.03867255, 0.96132745],\n",
       "       [0.10327856, 0.89672144],\n",
       "       [0.0186072 , 0.9813928 ],\n",
       "       [0.17761282, 0.82238718],\n",
       "       [0.02136534, 0.97863466],\n",
       "       [0.05722216, 0.94277784],\n",
       "       [0.00709352, 0.99290648],\n",
       "       [0.0035897 , 0.9964103 ],\n",
       "       [0.03626556, 0.96373444],\n",
       "       [0.28673828, 0.71326172],\n",
       "       [0.01755116, 0.98244884],\n",
       "       [0.2702877 , 0.7297123 ],\n",
       "       [0.01993111, 0.98006889],\n",
       "       [0.11807211, 0.88192789],\n",
       "       [0.65668355, 0.34331645],\n",
       "       [0.07825076, 0.92174924],\n",
       "       [0.0199568 , 0.9800432 ],\n",
       "       [0.00555388, 0.99444612],\n",
       "       [0.03155434, 0.96844566],\n",
       "       [0.57805433, 0.42194567],\n",
       "       [0.02539756, 0.97460244],\n",
       "       [0.09687966, 0.90312034],\n",
       "       [0.29061053, 0.70938947],\n",
       "       [0.60252992, 0.39747008],\n",
       "       [0.38449859, 0.61550141],\n",
       "       [0.00406895, 0.99593105],\n",
       "       [0.27052996, 0.72947004],\n",
       "       [0.16365303, 0.83634697],\n",
       "       [0.07739164, 0.92260836],\n",
       "       [0.07667211, 0.92332789],\n",
       "       [0.05430204, 0.94569796],\n",
       "       [0.01040296, 0.98959704],\n",
       "       [0.01723736, 0.98276264],\n",
       "       [0.33638097, 0.66361903],\n",
       "       [0.05146592, 0.94853408],\n",
       "       [0.20785986, 0.79214014],\n",
       "       [0.0660623 , 0.9339377 ],\n",
       "       [0.28441372, 0.71558628],\n",
       "       [0.3634329 , 0.6365671 ],\n",
       "       [0.28101295, 0.71898705],\n",
       "       [0.05233641, 0.94766359],\n",
       "       [0.67867377, 0.32132623],\n",
       "       [0.06515856, 0.93484144],\n",
       "       [0.08762495, 0.91237505],\n",
       "       [0.01052235, 0.98947765],\n",
       "       [0.0376032 , 0.9623968 ],\n",
       "       [0.36276981, 0.63723019],\n",
       "       [0.02447005, 0.97552995],\n",
       "       [0.13236993, 0.86763007],\n",
       "       [0.28700071, 0.71299929],\n",
       "       [0.36085648, 0.63914352],\n",
       "       [0.18848275, 0.81151725],\n",
       "       [0.02593921, 0.97406079],\n",
       "       [0.26947905, 0.73052095],\n",
       "       [0.00990047, 0.99009953],\n",
       "       [0.02488068, 0.97511932],\n",
       "       [0.09010433, 0.90989567],\n",
       "       [0.02194904, 0.97805096],\n",
       "       [0.0831127 , 0.9168873 ],\n",
       "       [0.01854922, 0.98145078],\n",
       "       [0.00335849, 0.99664151],\n",
       "       [0.02856862, 0.97143138],\n",
       "       [0.42345415, 0.57654585],\n",
       "       [0.12721738, 0.87278262]])"
      ]
     },
     "execution_count": 19,
     "metadata": {},
     "output_type": "execute_result"
    }
   ],
   "source": [
    "probabilidades = clasificador.predict_proba(X)\n",
    "probabilidades"
   ]
  },
  {
   "cell_type": "code",
   "execution_count": 20,
   "metadata": {},
   "outputs": [],
   "source": [
    "# Graficaremos la frontera de decisión.\n"
   ]
  },
  {
   "cell_type": "code",
   "execution_count": 29,
   "metadata": {},
   "outputs": [],
   "source": [
    "x_range = np.linspace(start=0.0, stop=10.0, num=1000)\n",
    "y_range = np.linspace(start=0.0, stop=10.0, num=1000)"
   ]
  },
  {
   "cell_type": "code",
   "execution_count": 30,
   "metadata": {},
   "outputs": [],
   "source": [
    "xx,yy = np.meshgrid(x_range, y_range)"
   ]
  },
  {
   "cell_type": "code",
   "execution_count": 24,
   "metadata": {},
   "outputs": [
    {
     "data": {
      "text/plain": [
       "array([[ 0.        ,  0.01001001,  0.02002002, ...,  9.97997998,\n",
       "         9.98998999, 10.        ],\n",
       "       [ 0.        ,  0.01001001,  0.02002002, ...,  9.97997998,\n",
       "         9.98998999, 10.        ],\n",
       "       [ 0.        ,  0.01001001,  0.02002002, ...,  9.97997998,\n",
       "         9.98998999, 10.        ],\n",
       "       ...,\n",
       "       [ 0.        ,  0.01001001,  0.02002002, ...,  9.97997998,\n",
       "         9.98998999, 10.        ],\n",
       "       [ 0.        ,  0.01001001,  0.02002002, ...,  9.97997998,\n",
       "         9.98998999, 10.        ],\n",
       "       [ 0.        ,  0.01001001,  0.02002002, ...,  9.97997998,\n",
       "         9.98998999, 10.        ]])"
      ]
     },
     "execution_count": 24,
     "metadata": {},
     "output_type": "execute_result"
    }
   ],
   "source": [
    "xx"
   ]
  },
  {
   "cell_type": "code",
   "execution_count": 36,
   "metadata": {},
   "outputs": [],
   "source": [
    "x_ravel = xx.ravel()\n",
    "x_ravel = x_ravel.reshape(len(x_ravel),1)\n",
    "y_ravel = yy.ravel()\n",
    "y_ravel = y_ravel.reshape(len(y_ravel),1)\n",
    "X_predict = np.concatenate([x_ravel, y_ravel], axis=1)"
   ]
  },
  {
   "cell_type": "code",
   "execution_count": 28,
   "metadata": {},
   "outputs": [
    {
     "data": {
      "text/plain": [
       "array([[1, 1, 1],\n",
       "       [2, 2, 2],\n",
       "       [3, 3, 3]])"
      ]
     },
     "execution_count": 28,
     "metadata": {},
     "output_type": "execute_result"
    }
   ],
   "source": [
    "#xx,yy = np.meshgrid([1,2,3], [1,2,3])\n",
    "#xx\n",
    "#yy"
   ]
  },
  {
   "cell_type": "code",
   "execution_count": 37,
   "metadata": {},
   "outputs": [],
   "source": [
    "Z_predict = clasificador.predict(X_predict)"
   ]
  },
  {
   "cell_type": "code",
   "execution_count": 38,
   "metadata": {},
   "outputs": [
    {
     "data": {
      "text/plain": [
       "array([0., 0., 0., ..., 1., 1., 1.])"
      ]
     },
     "execution_count": 38,
     "metadata": {},
     "output_type": "execute_result"
    }
   ],
   "source": [
    "Z_predict"
   ]
  },
  {
   "cell_type": "code",
   "execution_count": 40,
   "metadata": {},
   "outputs": [
    {
     "data": {
      "text/plain": [
       "array([[0., 0., 0., ..., 1., 1., 1.],\n",
       "       [0., 0., 0., ..., 1., 1., 1.],\n",
       "       [0., 0., 0., ..., 1., 1., 1.],\n",
       "       ...,\n",
       "       [0., 0., 0., ..., 1., 1., 1.],\n",
       "       [0., 0., 0., ..., 1., 1., 1.],\n",
       "       [0., 0., 0., ..., 1., 1., 1.]])"
      ]
     },
     "execution_count": 40,
     "metadata": {},
     "output_type": "execute_result"
    }
   ],
   "source": [
    "Z_predict = Z_predict.reshape(xx.shape)\n",
    "Z_predict"
   ]
  },
  {
   "cell_type": "code",
   "execution_count": 41,
   "metadata": {},
   "outputs": [
    {
     "data": {
      "text/plain": [
       "<matplotlib.collections.PathCollection at 0x7fa1868aa898>"
      ]
     },
     "execution_count": 41,
     "metadata": {},
     "output_type": "execute_result"
    },
    {
     "data": {
      "image/png": "[encoded data removed]",
      "text/plain": [
       "<Figure size 432x288 with 1 Axes>"
      ]
     },
     "metadata": {},
     "output_type": "display_data"
    }
   ],
   "source": [
    "plt.pcolormesh(xx,yy,Z_predict, cmap=plt.cm.autumn)\n",
    "plt.scatter(a1,a2)\n",
    "plt.scatter(b1,b2)"
   ]
  },
  {
   "cell_type": "code",
   "execution_count": 47,
   "metadata": {},
   "outputs": [],
   "source": [
    "probas = clasificador.predict_proba(X_predict)"
   ]
  },
  {
   "cell_type": "code",
   "execution_count": 43,
   "metadata": {},
   "outputs": [],
   "source": [
    "# Grafica de probabilidades."
   ]
  },
  {
   "cell_type": "code",
   "execution_count": 46,
   "metadata": {},
   "outputs": [],
   "source": [
    "probas_clase_0 = probas[:,0].reshape(xx.shape)"
   ]
  },
  {
   "cell_type": "code",
   "execution_count": 48,
   "metadata": {},
   "outputs": [
    {
     "data": {
      "text/plain": [
       "<matplotlib.collections.PathCollection at 0x7fa1849fc6d8>"
      ]
     },
     "execution_count": 48,
     "metadata": {},
     "output_type": "execute_result"
    },
    {
     "data": {
      "image/png": "[encoded data removed]",
      "text/plain": [
       "<Figure size 432x288 with 1 Axes>"
      ]
     },
     "metadata": {},
     "output_type": "display_data"
    }
   ],
   "source": [
    "plt.pcolormesh(xx,yy, probas_clase_0, cmap=plt.cm.autumn)\n",
    "plt.scatter(a1,a2)\n",
    "plt.scatter(b1,b2)"
   ]
  },
  {
   "cell_type": "code",
   "execution_count": 49,
   "metadata": {},
   "outputs": [
    {
     "data": {
      "text/plain": [
       "array([[ 1.11461927, -0.19322931]])"
      ]
     },
     "execution_count": 49,
     "metadata": {},
     "output_type": "execute_result"
    }
   ],
   "source": [
    "clasificador.coef_"
   ]
  },
  {
   "cell_type": "code",
   "execution_count": 50,
   "metadata": {},
   "outputs": [
    {
     "data": {
      "text/plain": [
       "array([-4.37548361])"
      ]
     },
     "execution_count": 50,
     "metadata": {},
     "output_type": "execute_result"
    }
   ],
   "source": [
    "clasificador.intercept_"
   ]
  },
  {
   "cell_type": "markdown",
   "metadata": {},
   "source": [
    "Ian Goodfellow\n",
    "Deep Learning 2016.\n",
    "\n",
    "\n",
    "Ejercicio\n",
    "\n",
    "1) Implementar esquemas de training/testing CV con estos datos.\n",
    "\n",
    "2) Considerar el dataset Abalone, encontrar el \"mejor\" clasificador para distinguir Adultos (M o F) de Infantes (I).\n",
    "\n",
    "3) Considerar el dataset \"Titanic\", y construya el mejor clasificador que pueda, para determinar supervivencia.\n"
   ]
  },
  {
   "cell_type": "code",
   "execution_count": null,
   "metadata": {},
   "outputs": [],
   "source": []
  }
 ],
 "metadata": {
  "kernelspec": {
   "display_name": "Python 3",
   "language": "python",
   "name": "python3"
  },
  "language_info": {
   "codemirror_mode": {
    "name": "ipython",
    "version": 3
   },
   "file_extension": ".py",
   "mimetype": "text/x-python",
   "name": "python",
   "nbconvert_exporter": "python",
   "pygments_lexer": "ipython3",
   "version": "3.6.5"
  }
 },
 "nbformat": 4,
 "nbformat_minor": 2
}
